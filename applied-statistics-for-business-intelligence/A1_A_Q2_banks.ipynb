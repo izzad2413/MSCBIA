{
 "cells": [
  {
   "cell_type": "markdown",
   "metadata": {},
   "source": [
    "**Question 2**\n",
    "\n",
    "The commercial banking industry is undergoing rapid changes due to advances in technology and competitive pressures in the financial services sector. The data file BANKS contains selected information\n",
    "tabulated by Fortune concerning the revenues, profitability, and number of employees for the 51 largest US Commercial Banks in terms of revenues. Use the information in this file to complete the following:"
   ]
  },
  {
   "cell_type": "markdown",
   "metadata": {},
   "source": [
    "**Features of dataset**\n",
    "\n",
    "- Name        - Bank Name\n",
    "- Revenues    - Revenues in $ million\n",
    "- Profits     - Profits in $ million\n",
    "- Employees   - Number of employees of the bank"
   ]
  },
  {
   "cell_type": "code",
   "execution_count": 10,
   "metadata": {},
   "outputs": [],
   "source": [
    "# import all relevant python library\n",
    "\n",
    "import pandas as pd              # data manipulation\n",
    "import numpy as np               # computation purposes\n",
    "import scipy.stats as stats      # statistical calculation\n",
    "import seaborn as sns\n",
    "import matplotlib.pyplot as plt"
   ]
  },
  {
   "cell_type": "code",
   "execution_count": 11,
   "metadata": {},
   "outputs": [
    {
     "data": {
      "text/html": [
       "<div>\n",
       "<style scoped>\n",
       "    .dataframe tbody tr th:only-of-type {\n",
       "        vertical-align: middle;\n",
       "    }\n",
       "\n",
       "    .dataframe tbody tr th {\n",
       "        vertical-align: top;\n",
       "    }\n",
       "\n",
       "    .dataframe thead th {\n",
       "        text-align: right;\n",
       "    }\n",
       "</style>\n",
       "<table border=\"1\" class=\"dataframe\">\n",
       "  <thead>\n",
       "    <tr style=\"text-align: right;\">\n",
       "      <th></th>\n",
       "      <th>Name</th>\n",
       "      <th>Revenues</th>\n",
       "      <th>Profits</th>\n",
       "      <th>Employees</th>\n",
       "    </tr>\n",
       "  </thead>\n",
       "  <tbody>\n",
       "    <tr>\n",
       "      <th>0</th>\n",
       "      <td>CITICORP</td>\n",
       "      <td>34697</td>\n",
       "      <td>3591</td>\n",
       "      <td>93700</td>\n",
       "    </tr>\n",
       "    <tr>\n",
       "      <th>1</th>\n",
       "      <td>CHASE MANHATTAN CORP.</td>\n",
       "      <td>30381</td>\n",
       "      <td>3708</td>\n",
       "      <td>69033</td>\n",
       "    </tr>\n",
       "    <tr>\n",
       "      <th>2</th>\n",
       "      <td>BANKAMERICA CORP.</td>\n",
       "      <td>23585</td>\n",
       "      <td>3210</td>\n",
       "      <td>77000</td>\n",
       "    </tr>\n",
       "    <tr>\n",
       "      <th>3</th>\n",
       "      <td>NATIONSBANK CORP.</td>\n",
       "      <td>21734</td>\n",
       "      <td>3077</td>\n",
       "      <td>80360</td>\n",
       "    </tr>\n",
       "    <tr>\n",
       "      <th>4</th>\n",
       "      <td>J.P.MORGAN &amp; CO.</td>\n",
       "      <td>17701</td>\n",
       "      <td>1465</td>\n",
       "      <td>16943</td>\n",
       "    </tr>\n",
       "  </tbody>\n",
       "</table>\n",
       "</div>"
      ],
      "text/plain": [
       "                    Name  Revenues  Profits  Employees\n",
       "0               CITICORP     34697     3591      93700\n",
       "1  CHASE MANHATTAN CORP.     30381     3708      69033\n",
       "2      BANKAMERICA CORP.     23585     3210      77000\n",
       "3      NATIONSBANK CORP.     21734     3077      80360\n",
       "4       J.P.MORGAN & CO.     17701     1465      16943"
      ]
     },
     "execution_count": 11,
     "metadata": {},
     "output_type": "execute_result"
    }
   ],
   "source": [
    "banks = pd.read_excel(\"Banks.xlsx\", sheet_name=\"DATA\")      # load dataset\n",
    "banks.head()                                                # checking the dataset"
   ]
  },
  {
   "cell_type": "code",
   "execution_count": 12,
   "metadata": {},
   "outputs": [
    {
     "name": "stdout",
     "output_type": "stream",
     "text": [
      "<class 'pandas.core.frame.DataFrame'>\n",
      "RangeIndex: 51 entries, 0 to 50\n",
      "Data columns (total 4 columns):\n",
      " #   Column     Non-Null Count  Dtype \n",
      "---  ------     --------------  ----- \n",
      " 0   Name       51 non-null     object\n",
      " 1   Revenues   51 non-null     int64 \n",
      " 2   Profits    51 non-null     int64 \n",
      " 3   Employees  51 non-null     int64 \n",
      "dtypes: int64(3), object(1)\n",
      "memory usage: 1.7+ KB\n",
      "\n",
      " There are a total of row & columns (51, 4)\n",
      "\n",
      " Name         0\n",
      "Revenues     0\n",
      "Profits      0\n",
      "Employees    0\n",
      "dtype: int64\n"
     ]
    }
   ],
   "source": [
    "banks.info()                                                    # checking the columns & data type\n",
    "print(\"\\n\", \"There are a total of row & columns\", banks.shape)  # checking the total rows & column\n",
    "print(\"\\n\", banks.isnull().sum())                               # checking for null values"
   ]
  },
  {
   "cell_type": "markdown",
   "metadata": {},
   "source": [
    "a.  Compute the mean, median and standard deviation for the three variables: revenues, profits and number of employees."
   ]
  },
  {
   "cell_type": "code",
   "execution_count": 13,
   "metadata": {},
   "outputs": [
    {
     "name": "stdout",
     "output_type": "stream",
     "text": [
      "           count     mean      std     min     25%      50%      75%      max\n",
      "Revenues    51.0   6355.0   7458.0  1047.0  1836.0   3428.0   6884.0  34697.0\n",
      "Profits     51.0    803.0    882.0    75.0   236.0    401.0    986.0   3708.0\n",
      "Employees   51.0  21530.0  21269.0  3884.0  7733.0  11000.0  25336.0  93700.0 \n",
      "\n",
      "Below are the median value of the three variables\n",
      "Revenues      3428.0\n",
      "Profits        401.0\n",
      "Employees    11000.0\n",
      "dtype: float64\n"
     ]
    }
   ],
   "source": [
    "# calculating the mean, median & standard deviation of revenues, profits & number of employees\n",
    "\n",
    "print(banks.describe().T.round(), \"\\n\")                     # compute the mean & standard deviation using pd describe method\n",
    "print(\"Below are the median value of the three variables\")\n",
    "print(banks.median())                                       # compute variables using pd median method\n"
   ]
  },
  {
   "cell_type": "markdown",
   "metadata": {},
   "source": [
    "b.  Consider Mellon Bank Corporation headquarters in Pittsburgh. Convert the data for each variable to z value. How does it compare to the average bank in the study on the three variables in part (a)?"
   ]
  },
  {
   "cell_type": "code",
   "execution_count": 14,
   "metadata": {},
   "outputs": [
    {
     "name": "stdout",
     "output_type": "stream",
     "text": [
      "                    Name  Revenues  Profits  Employees  z_rev  z_pro  z_emp\n",
      "0               CITICORP     34697     3591      93700   3.84   3.19   3.43\n",
      "1  CHASE MANHATTAN CORP.     30381     3708      69033   3.25   3.33   2.26\n",
      "2      BANKAMERICA CORP.     23585     3210      77000   2.33   2.76   2.63 \n",
      "\n",
      "                 Name  Revenues  Profits  Employees  z_rev  z_pro  z_emp\n",
      "19  MELLON BANK CORP.      5134      771      27500  -0.17  -0.04   0.28\n"
     ]
    }
   ],
   "source": [
    "# calculate z score of each variables, compare observation MELLON BANK CORP. with the mean score\n",
    "\n",
    "banks[\"z_rev\"] = stats.zscore(banks[\"Revenues\"]).round(2)       # creating new column to compute z score for revenue, profits & employees\n",
    "banks[\"z_pro\"] = stats.zscore(banks[\"Profits\"]).round(2)\n",
    "banks[\"z_emp\"] = stats.zscore(banks[\"Employees\"]).round(2)\n",
    "print(banks.head(3), \"\\n\")                                      # checking the dataset with the new columns\n",
    "mbc = banks[banks[\"Name\" ] == \"MELLON BANK CORP.\"]              # subset the dataset with text criteria\n",
    "print(mbc)"
   ]
  },
  {
   "cell_type": "markdown",
   "metadata": {},
   "source": [
    "c.  As you can see by examining the data and by looking at statistics computed in part (a), not all banks had the same revenue, same profit or the same number of employees. Which variable had the greatest relative variation among the banks in the study?"
   ]
  },
  {
   "cell_type": "code",
   "execution_count": 15,
   "metadata": {},
   "outputs": [
    {
     "name": "stdout",
     "output_type": "stream",
     "text": [
      "CV revenue: 1.16\n",
      "CV profit: 1.09\n",
      "CV employees : 0.98\n"
     ]
    }
   ],
   "source": [
    "# Which variable had the greatest relative variation among the banks in the study?\n",
    "\n",
    "revenue = stats.variation(banks[\"Revenues\"]).round(2)\n",
    "profit = stats.variation(banks[\"Profits\"]).round(2)\n",
    "employees = stats.variation(banks[\"Employees\"]).round(2)\n",
    "\n",
    "print(\"CV revenue:\", revenue)\n",
    "print(\"CV profit:\", profit)\n",
    "print(\"CV employees :\",employees)"
   ]
  },
  {
   "cell_type": "markdown",
   "metadata": {},
   "source": [
    "d.  Calculate a new variable: profits per employee. Develop a frequency distribution and histogram for this new variable. Also compute the mean, median and standard deviation for the new variable."
   ]
  },
  {
   "cell_type": "code",
   "execution_count": 16,
   "metadata": {},
   "outputs": [
    {
     "name": "stdout",
     "output_type": "stream",
     "text": [
      "                    Name  Revenues  Profits  Employees  z_rev  z_pro  z_emp  \\\n",
      "0               CITICORP     34697     3591      93700   3.84   3.19   3.43   \n",
      "1  CHASE MANHATTAN CORP.     30381     3708      69033   3.25   3.33   2.26   \n",
      "2      BANKAMERICA CORP.     23585     3210      77000   2.33   2.76   2.63   \n",
      "\n",
      "   Profits Per Employee  \n",
      "0              0.038324  \n",
      "1              0.053713  \n",
      "2              0.041688  \n"
     ]
    }
   ],
   "source": [
    "# create new variable profits per employee, frequency distribution & histogram, compute mean, median & std \n",
    "\n",
    "banks[\"Profits Per Employee\"] = banks[\"Profits\"]  / banks[\"Employees\"].round(2)      # creating new column for profits per employee\n",
    "print(banks.head(3))                                                                 # checking the dataset with the new column"
   ]
  },
  {
   "cell_type": "code",
   "execution_count": 17,
   "metadata": {},
   "outputs": [
    {
     "data": {
      "text/plain": [
       "count    51.00\n",
       "mean      0.04\n",
       "std       0.01\n",
       "min       0.01\n",
       "25%       0.03\n",
       "50%       0.04\n",
       "75%       0.04\n",
       "max       0.09\n",
       "Name: Profits Per Employee, dtype: float64"
      ]
     },
     "execution_count": 17,
     "metadata": {},
     "output_type": "execute_result"
    }
   ],
   "source": [
    "banks[\"Profits Per Employee\"].describe().T.round(2)"
   ]
  },
  {
   "cell_type": "code",
   "execution_count": 18,
   "metadata": {},
   "outputs": [
    {
     "name": "stdout",
     "output_type": "stream",
     "text": [
      "(0.0108, 0.0193]     2\n",
      "(0.0193, 0.0268]     8\n",
      "(0.0268, 0.0342]    14\n",
      "(0.0342, 0.0417]    14\n",
      "(0.0417, 0.0492]     7\n",
      "(0.0492, 0.0566]     2\n",
      "(0.0566, 0.0641]     1\n",
      "(0.0641, 0.0715]     1\n",
      "(0.0715, 0.079]      1\n",
      "(0.079, 0.0865]      1\n",
      "Name: Profits Per Employee, dtype: int64\n"
     ]
    }
   ],
   "source": [
    "# creating a Profits Per Employee frequency distribution\n",
    "\n",
    "freq_tab = banks[\"Profits Per Employee\"].value_counts(bins = 10).sort_index()\n",
    "print(freq_tab)"
   ]
  },
  {
   "cell_type": "code",
   "execution_count": 19,
   "metadata": {},
   "outputs": [
    {
     "data": {
      "image/png": "[encoded data removed]",
      "text/plain": [
       "<Figure size 432x288 with 1 Axes>"
      ]
     },
     "metadata": {
      "needs_background": "light"
     },
     "output_type": "display_data"
    }
   ],
   "source": [
    "# creating a Profits Per Employee histogram\n",
    "\n",
    "sns.histplot(x=\"Profits Per Employee\", data=banks, kde=True, bins=10)    # select the Profits Per Employee column only\n",
    "plt.xlabel(\"Profit Per Employee\")\n",
    "plt.xlabel(\"Profit Per Employee\")\n",
    "plt.ylabel(\"Frequency\")\n",
    "plt.show()"
   ]
  },
  {
   "cell_type": "code",
   "execution_count": 20,
   "metadata": {},
   "outputs": [
    {
     "name": "stdout",
     "output_type": "stream",
     "text": [
      "count    51.000000\n",
      "mean      0.036514\n",
      "std       0.013978\n",
      "min       0.011868\n",
      "25%       0.027142\n",
      "50%       0.035312\n",
      "75%       0.042042\n",
      "max       0.086466\n",
      "Name: Profits Per Employee, dtype: float64 \n",
      "\n",
      "The median value for Profits Per Employee is 0.0353125\n"
     ]
    }
   ],
   "source": [
    "# compute mean, median & std \n",
    "print(banks[\"Profits Per Employee\"].describe(), \"\\n\")\n",
    "print(\"The median value for Profits Per Employee is\", banks[\"Profits Per Employee\"].median())"
   ]
  }
 ],
 "metadata": {
  "kernelspec": {
   "display_name": "Python 3.8.8 ('base')",
   "language": "python",
   "name": "python3"
  },
  "language_info": {
   "codemirror_mode": {
    "name": "ipython",
    "version": 3
   },
   "file_extension": ".py",
   "mimetype": "text/x-python",
   "name": "python",
   "nbconvert_exporter": "python",
   "pygments_lexer": "ipython3",
   "version": "3.8.8"
  },
  "orig_nbformat": 4,
  "vscode": {
   "interpreter": {
    "hash": "9c1d5a056f04d97314a9f946bc8c5185004572d3d68312220c0ba298420421f7"
   }
  }
 },
 "nbformat": 4,
 "nbformat_minor": 2
}
