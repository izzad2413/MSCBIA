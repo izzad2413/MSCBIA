{
 "cells": [
  {
   "cell_type": "markdown",
   "metadata": {},
   "source": [
    "**Question 1**\n",
    "\n",
    "The Center on Budget and Policy Priorities reported that average out-of-pocket medical expenses for prescription drugs for privately insured adults with incomes over 200% of the poverty level was $173 in 2002. Suppose an investigation was conducted in 2009 to determine whether the increased availability of generic drugs, Internet prescription drug purchases, and cost controls have reduced out-of-pocket drug expenses. The investigation randomly sampled 196 privately insured adults with incomes over 200% of the poverty level, and the respondents’ 2009 out-of-pocket medical expenses for prescription drugs were recorded. These data are in the file Drug Expenses. Based on the sample data, can it be concluded that 2009 out-of-pocket prescription drug expenses are lower than the 2002 average reported by the Center on Budget and Policy Priorities? Use a level of significance of 0.01 to conduct the hypothesis test."
   ]
  },
  {
   "cell_type": "markdown",
   "metadata": {},
   "source": [
    "**Summarize**\n",
    "\n",
    "- Population parameter is mean, that is the out-of-pocket prescription drug expenses\n",
    "- Null Hypothesis: Out-of-pocket prescription drug expenses are >= than $173 \n",
    "- Alternative Hypothesis: Out-of-pocket prescription drug expenses < $173 (claim)\n",
    "- Based on the statement given, this is a one side or one tailed test\n",
    "- Level of significance is 99%\n",
    "- Alpha value is at 0.01"
   ]
  },
  {
   "cell_type": "code",
   "execution_count": 1,
   "metadata": {},
   "outputs": [],
   "source": [
    "# import all relevant python libraries\n",
    "\n",
    "import numpy as np\n",
    "import pandas as pd\n",
    "from statsmodels.graphics.gofplots import qqplot\n",
    "import matplotlib.pyplot as plt\n",
    "from scipy import stats\n",
    "import scipy.stats\n",
    "from scipy.stats import norm\n",
    "from scipy.stats import kstest                         \n",
    "from scipy.stats import ttest_1samp                     "
   ]
  },
  {
   "cell_type": "code",
   "execution_count": 2,
   "metadata": {},
   "outputs": [
    {
     "name": "stdout",
     "output_type": "stream",
     "text": [
      "   Out-Of-Pocket Drug Expenses\n",
      "0                       200.31\n",
      "1                       143.38\n",
      "2                       164.43\n",
      "3                       179.59\n",
      "4                       199.88 \n",
      "\n",
      "Out-Of-Pocket Drug Expenses    float64\n",
      "dtype: object \n",
      "\n",
      "(196, 1) \n",
      "\n",
      "Out-Of-Pocket Drug Expenses    0\n",
      "dtype: int64\n"
     ]
    }
   ],
   "source": [
    "# checking the dataset\n",
    "\n",
    "de = pd.read_excel(\"DrugExpenses.xlsx\", sheet_name=\"Data\", usecols=[1], header=0)   # they are undefine features appear when file being load, use usecols arg to retrive certain columns\n",
    "print(de.head(5), \"\\n\")\n",
    "print(de.dtypes, \"\\n\")\n",
    "print(de.shape, \"\\n\")\n",
    "print(de.isnull().sum())"
   ]
  },
  {
   "cell_type": "code",
   "execution_count": 3,
   "metadata": {},
   "outputs": [
    {
     "data": {
      "image/png": "[encoded data removed]",
      "text/plain": [
       "<Figure size 432x288 with 1 Axes>"
      ]
     },
     "metadata": {
      "needs_background": "light"
     },
     "output_type": "display_data"
    }
   ],
   "source": [
    "# perform visual normality test\n",
    "\n",
    "qqplot(de['Out-Of-Pocket Drug Expenses'], line='s')\n",
    "plt.show()"
   ]
  },
  {
   "cell_type": "code",
   "execution_count": 4,
   "metadata": {},
   "outputs": [
    {
     "name": "stdout",
     "output_type": "stream",
     "text": [
      "Hypothesis Statement\n",
      "H_null - Data is normally distributed\n",
      "H_alt - Data is not normally distributed \n",
      "\n",
      "Numerical Normality Test Result:\n",
      "Kolmogorov-Smirnov Statistics=0.060, p_value=0.466 \n",
      "\n",
      "The null hypothesis is accepted\n",
      "Data is NORMALLY distributed\n"
     ]
    }
   ],
   "source": [
    "# perform numerical normality test\n",
    "# using the Kolmogorov Smirnov Test, sample size more than 50 \n",
    "\n",
    "confidence_level = 0.99                         # specify the confidence level\n",
    "alpha = (1-confidence_level)                    # calculate alpha\n",
    "\n",
    "data = de['Out-Of-Pocket Drug Expenses']        # grab variable column\n",
    "loc, scale = norm.fit(data) \n",
    "n = norm(loc=loc, scale=scale)                  # create a normal distribution with loc and s\n",
    "\n",
    "stats,pvalue=scipy.stats.kstest(data, n.cdf)    # Kolmogorov Smirnov Test, return KS value and P-value\n",
    "print('Hypothesis Statement')\n",
    "print('H_null - Data is normally distributed')\n",
    "print('H_alt - Data is not normally distributed', \"\\n\")\n",
    "print(\"Numerical Normality Test Result:\")\n",
    "print('Kolmogorov-Smirnov Statistics=%.3f, p_value=%.3f' % (stats, pvalue), \"\\n\")\n",
    "\n",
    "if pvalue < alpha:                              # checking the p value either accepting null hypothesis & data distribution\n",
    "    print('The null hypothesis is rejected') \n",
    "    print('Data is NOT NORMALLY distributed') \n",
    "else: \n",
    "    print('The null hypothesis is accepted') \n",
    "    print('Data is NORMALLY distributed')"
   ]
  },
  {
   "cell_type": "code",
   "execution_count": 8,
   "metadata": {},
   "outputs": [
    {
     "name": "stdout",
     "output_type": "stream",
     "text": [
      "Hypothesis Statement\n",
      "Null Hypothesis: Out-of-pocket prescription drug expenses are >= than $173\n",
      "Alternative Hypothesis: Out-of-pocket prescription drug expenses < $173 (claim) \n",
      "\n",
      "Significance level, α=0.01 \n",
      "t Statistic:  -2.69\n",
      "P Value (one sided test): 0.00388 \n",
      "\n",
      "The null hypothesis is rejected as P-value is less than α \n"
     ]
    }
   ],
   "source": [
    "# proceed to conduct statistical testing using parametric one sample T-Test\n",
    "\n",
    "print(\"Hypothesis Statement\")\n",
    "print(\"Null Hypothesis: Out-of-pocket prescription drug expenses are >= than $173\") \n",
    "print(\"Alternative Hypothesis: Out-of-pocket prescription drug expenses < $173 (claim)\",\"\\n\")\n",
    "\n",
    "confidence_level= 0.99                                            # specify the confidence level\n",
    "alpha=(1-confidence_level)                                        # calculate significance level alpha\n",
    "print('Significance level, α=%.2f '%(alpha))\n",
    "\n",
    "tstat,pvalue=ttest_1samp(de['Out-Of-Pocket Drug Expenses'],173)   # one sample T-Test, the value 173 is the parameter mean \n",
    "print(\"t Statistic: \",tstat.round(3))\n",
    "print('P Value (one sided test): %.5f'%(pvalue/2), \"\\n\")          # need to divide by 2 because of 1 tail test\n",
    "\n",
    "if(pvalue/2)<alpha:                                               # decision on statistical test\n",
    "    print('The null hypothesis is rejected as P-value is less than α ')\n",
    "else:\n",
    "    print('The null hypothesis is accepted as P-value is more than α')"
   ]
  },
  {
   "cell_type": "code",
   "execution_count": 18,
   "metadata": {},
   "outputs": [
    {
     "name": "stdout",
     "output_type": "stream",
     "text": [
      "Hypotehsis Mean Value: 173\n",
      "Mean Value: 167.52076530612248\n",
      "Mean Difference Value: -5.479234693877515\n"
     ]
    }
   ],
   "source": [
    "Hypo_mean = 173\n",
    "print(\"Hypotehsis Mean Value:\", Hypo_mean)\n",
    "print('Mean Value:', de['Out-Of-Pocket Drug Expenses'].mean())\n",
    "\n",
    "#calculate the mean difference\n",
    "Mean_Diff = de['Out-Of-Pocket Drug Expenses'].mean() - Hypo_mean\n",
    "print('Mean Difference Value:',Mean_Diff)"
   ]
  },
  {
   "cell_type": "markdown",
   "metadata": {},
   "source": [
    "**Conclusion**\n",
    "\n",
    "Population parameter is the mean of out-of-pocket prescription drug expenses. Based on the statement given, the hypothesis can be described as follow:\n",
    "\n",
    "- Null Hypothesis: Out-of-pocket prescription drug expenses are >= than $173 \n",
    "- Alternative Hypothesis: Out-of-pocket prescription drug expenses < $173 (claim)\n",
    "\n",
    "This is a one side or one tailed test. Level of significance is 99% so alpha value will be at 0.01. Since the variable is more than 50 samples, Kolmogorov test was tested for normality checking. It was found that the data is normally distributed with a p-value of 0.466. Next, t-test will be used to conduct the hypothesis testing as it only tests on one sample. The p-value is at 0.00388 level of significance, the null hypothesis is rejected as –value is less than alpha.\n"
   ]
  }
 ],
 "metadata": {
  "kernelspec": {
   "display_name": "Python 3.8.8 ('base')",
   "language": "python",
   "name": "python3"
  },
  "language_info": {
   "codemirror_mode": {
    "name": "ipython",
    "version": 3
   },
   "file_extension": ".py",
   "mimetype": "text/x-python",
   "name": "python",
   "nbconvert_exporter": "python",
   "pygments_lexer": "ipython3",
   "version": "3.8.8"
  },
  "orig_nbformat": 4,
  "vscode": {
   "interpreter": {
    "hash": "9c1d5a056f04d97314a9f946bc8c5185004572d3d68312220c0ba298420421f7"
   }
  }
 },
 "nbformat": 4,
 "nbformat_minor": 2
}
