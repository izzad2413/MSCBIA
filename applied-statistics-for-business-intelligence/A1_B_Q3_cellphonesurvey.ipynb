{
 "cells": [
  {
   "cell_type": "markdown",
   "metadata": {},
   "source": [
    "**Question 3**\n",
    "\n",
    "Cell phones are becoming an integral part of our daily lives. Commissioned by Motorola, a new behavioral study took researchers to nine cities worldwide from New York to London. Using a combination of\n",
    "personal interviews, field studies, and observation, the study identified a variety of behaviors that demonstrate the dramatic impact cell phones are having on the way people interact. The study found cell phones give people a newfound personal power, enabling unprecedented mobility and allowing them to conduct their business on the go. Interesting enough, gender differences can be found in phone use. Women see their cell phone as a means of expression and social communication, whereas males tend to use it as an interactive toy. A cell phone industry spokesman stated that half of all cell phones in use are registered to females."
   ]
  },
  {
   "cell_type": "markdown",
   "metadata": {},
   "source": [
    "- State the appropriate null and alternative hypotheses for testing the industry claim.\n",
    "- Based on a random sample of cell phone owners shown in the data file called Cell Phone Survey, test the null hypothesis. (Use α = 0.05.)\n",
    "- The study also wants to test which group gender spent money on their mobile phone. Conduct the statistical test at significance level 0.05. Discuss your finding."
   ]
  },
  {
   "cell_type": "markdown",
   "metadata": {},
   "source": [
    "**1. Summarize**\n",
    "\n",
    "- Population parameter is the total count between male & female cell phone users\n",
    "- Null Hypothesis: Total registered female cell phone users = 50% (claim)\n",
    "- Alternative Hypothesis: Total registered female cell phone users ≠ 50%\n",
    "- Based on the statement given, this is a two side or two tailed test\n",
    "- Level of significance is 95%\n",
    "- Alpha value is at 0.05"
   ]
  },
  {
   "cell_type": "markdown",
   "metadata": {},
   "source": [
    "**2. Summarize**\n",
    "\n",
    "- Population parameter is total spend between gender\n",
    "- Null Hypothesis: Spend money on phone between men & women are equal (claim)\n",
    "- Alternative Hypothesis: Spend money on phone between men & women are not equal \n",
    "- Based on the statement given, this is a two side or two tailed test\n",
    "- Level of significance is 95%\n",
    "- Alpha value is at 0.05"
   ]
  },
  {
   "cell_type": "code",
   "execution_count": 1,
   "metadata": {},
   "outputs": [],
   "source": [
    "# import all relevant python libraries\n",
    "\n",
    "import numpy as np\n",
    "import pandas as pd\n",
    "from statsmodels.graphics.gofplots import qqplot\n",
    "import matplotlib.pyplot as plt\n",
    "from scipy import stats\n",
    "import scipy.stats"
   ]
  },
  {
   "cell_type": "code",
   "execution_count": 2,
   "metadata": {},
   "outputs": [
    {
     "name": "stdout",
     "output_type": "stream",
     "text": [
      "  Gender Address-City   Age      Make  Price Home/Business  \\\n",
      "0      F        Boise  35.0     Nokia  100.0          Home   \n",
      "1      F        Boise  46.0     Nokia  100.0      Business   \n",
      "2      F     Meridian  31.0  Ericsson   45.0          Home   \n",
      "3      F        Boise  50.0     Nokia  100.0          Home   \n",
      "4      F        Boise  19.0     Nokia  100.0          Home   \n",
      "\n",
      "   Monthly plan price  Total $'s spent  \n",
      "0                25.0            140.0  \n",
      "1               100.0            130.0  \n",
      "2                25.0             45.0  \n",
      "3                50.0            100.0  \n",
      "4                25.0            140.0   \n",
      "\n",
      "Gender                 object\n",
      "Address-City           object\n",
      "Age                   float64\n",
      "Make                   object\n",
      "Price                 float64\n",
      "Home/Business          object\n",
      "Monthly plan price    float64\n",
      "Total $'s spent       float64\n",
      "dtype: object \n",
      "\n",
      "(51, 8) \n",
      "\n",
      "Gender                1\n",
      "Address-City          1\n",
      "Age                   1\n",
      "Make                  1\n",
      "Price                 1\n",
      "Home/Business         1\n",
      "Monthly plan price    1\n",
      "Total $'s spent       0\n",
      "dtype: int64\n"
     ]
    }
   ],
   "source": [
    "# checking the dataset\n",
    "\n",
    "data = pd.read_excel(\"CellPhoneSurvey.xlsx\")\n",
    "print(data.head(5), \"\\n\")\n",
    "print(data.dtypes, \"\\n\")\n",
    "print(data.shape, \"\\n\")\n",
    "print(data.isnull().sum())"
   ]
  },
  {
   "cell_type": "code",
   "execution_count": 3,
   "metadata": {},
   "outputs": [
    {
     "name": "stdout",
     "output_type": "stream",
     "text": [
      "   Gender Address-City   Age   Make  Price Home/Business  Monthly plan price  \\\n",
      "48      M        Boise  34.0  Nokia  200.0      Business                90.0   \n",
      "49      M        Boise  36.0  Nokia  200.0      Business                90.0   \n",
      "50    NaN          NaN   NaN    NaN    NaN           NaN                 NaN   \n",
      "\n",
      "    Total $'s spent  \n",
      "48           240.00  \n",
      "49           240.00  \n",
      "50           135.28   \n",
      "\n",
      "   Gender Address-City   Age   Make  Price Home/Business  Monthly plan price  \\\n",
      "47      M         Kuna  29.0  Nokia  100.0          Home                50.0   \n",
      "48      M        Boise  34.0  Nokia  200.0      Business                90.0   \n",
      "49      M        Boise  36.0  Nokia  200.0      Business                90.0   \n",
      "\n",
      "    Total $'s spent  \n",
      "47            240.0  \n",
      "48            240.0  \n",
      "49            240.0   \n",
      "\n",
      "(50, 8)\n"
     ]
    }
   ],
   "source": [
    "print(data.tail(3),\"\\n\")                        # before drop\n",
    "data.drop(data.tail(1).index,inplace=True)      # drop the last row\n",
    "print(data.tail(3),\"\\n\")                        # check the dataset again\n",
    "print(data.shape)                               # dataset contain 50 rows"
   ]
  },
  {
   "cell_type": "code",
   "execution_count": 4,
   "metadata": {},
   "outputs": [
    {
     "data": {
      "text/html": [
       "<div>\n",
       "<style scoped>\n",
       "    .dataframe tbody tr th:only-of-type {\n",
       "        vertical-align: middle;\n",
       "    }\n",
       "\n",
       "    .dataframe tbody tr th {\n",
       "        vertical-align: top;\n",
       "    }\n",
       "\n",
       "    .dataframe thead th {\n",
       "        text-align: right;\n",
       "    }\n",
       "</style>\n",
       "<table border=\"1\" class=\"dataframe\">\n",
       "  <thead>\n",
       "    <tr style=\"text-align: right;\">\n",
       "      <th></th>\n",
       "      <th>count</th>\n",
       "      <th>mean</th>\n",
       "      <th>std</th>\n",
       "      <th>min</th>\n",
       "      <th>25%</th>\n",
       "      <th>50%</th>\n",
       "      <th>75%</th>\n",
       "      <th>max</th>\n",
       "    </tr>\n",
       "  </thead>\n",
       "  <tbody>\n",
       "    <tr>\n",
       "      <th>Age</th>\n",
       "      <td>50.0</td>\n",
       "      <td>38.52</td>\n",
       "      <td>13.00</td>\n",
       "      <td>19.0</td>\n",
       "      <td>29.5</td>\n",
       "      <td>35.5</td>\n",
       "      <td>43.75</td>\n",
       "      <td>74.0</td>\n",
       "    </tr>\n",
       "    <tr>\n",
       "      <th>Price</th>\n",
       "      <td>50.0</td>\n",
       "      <td>109.40</td>\n",
       "      <td>57.76</td>\n",
       "      <td>45.0</td>\n",
       "      <td>60.0</td>\n",
       "      <td>100.0</td>\n",
       "      <td>122.50</td>\n",
       "      <td>250.0</td>\n",
       "    </tr>\n",
       "    <tr>\n",
       "      <th>Monthly plan price</th>\n",
       "      <td>50.0</td>\n",
       "      <td>43.30</td>\n",
       "      <td>29.63</td>\n",
       "      <td>20.0</td>\n",
       "      <td>25.0</td>\n",
       "      <td>25.0</td>\n",
       "      <td>50.00</td>\n",
       "      <td>150.0</td>\n",
       "    </tr>\n",
       "    <tr>\n",
       "      <th>Total $'s spent</th>\n",
       "      <td>50.0</td>\n",
       "      <td>135.28</td>\n",
       "      <td>63.88</td>\n",
       "      <td>45.0</td>\n",
       "      <td>92.5</td>\n",
       "      <td>130.0</td>\n",
       "      <td>155.00</td>\n",
       "      <td>280.0</td>\n",
       "    </tr>\n",
       "  </tbody>\n",
       "</table>\n",
       "</div>"
      ],
      "text/plain": [
       "                    count    mean    std   min   25%    50%     75%    max\n",
       "Age                  50.0   38.52  13.00  19.0  29.5   35.5   43.75   74.0\n",
       "Price                50.0  109.40  57.76  45.0  60.0  100.0  122.50  250.0\n",
       "Monthly plan price   50.0   43.30  29.63  20.0  25.0   25.0   50.00  150.0\n",
       "Total $'s spent      50.0  135.28  63.88  45.0  92.5  130.0  155.00  280.0"
      ]
     },
     "execution_count": 4,
     "metadata": {},
     "output_type": "execute_result"
    }
   ],
   "source": [
    "data.describe().T.round(2)"
   ]
  },
  {
   "cell_type": "code",
   "execution_count": 5,
   "metadata": {},
   "outputs": [
    {
     "name": "stdout",
     "output_type": "stream",
     "text": [
      "Frequency Distribution\n",
      "M    30\n",
      "F    20\n",
      "Name: Gender, dtype: int64 \n",
      "\n",
      "Percentage Frequency Distribution\n",
      "M    60.0\n",
      "F    40.0\n",
      "Name: Gender, dtype: float64\n"
     ]
    }
   ],
   "source": [
    "# it was claimed that 50% cell phone users are female\n",
    "# count the gender column\n",
    "\n",
    "print(\"Frequency Distribution\")\n",
    "gender = data.Gender.value_counts()\n",
    "print(gender, \"\\n\")\n",
    "\n",
    "print(\"Percentage Frequency Distribution\")\n",
    "percentages_freq = data.Gender.value_counts(normalize=True) * 100\n",
    "print(percentages_freq)"
   ]
  },
  {
   "cell_type": "code",
   "execution_count": 6,
   "metadata": {},
   "outputs": [
    {
     "name": "stdout",
     "output_type": "stream",
     "text": [
      "HYPOTHESIS STATEMENT\n",
      "H_NULL: The proportion of female registered cell phone is = 50% (claim)\n",
      "H_ALT:The proportion of female registered cell phone is ≠ 50% \n",
      "\n",
      "Significance level, α=0.05  \n",
      "\n",
      "P Value: 0.203\n",
      "The null hypothesis is accepted\n",
      "The proportion of female registered cell phone is = 50% (claim)\n"
     ]
    }
   ],
   "source": [
    "# perform non parametric proportion nominal data (binomial test)\n",
    "# two tail test\n",
    "\n",
    "print('HYPOTHESIS STATEMENT')\n",
    "print('H_NULL: The proportion of female registered cell phone is = 50% (claim)')\n",
    "print('H_ALT:The proportion of female registered cell phone is ≠ 50%', \"\\n\")\n",
    "\n",
    "mysum = sum(gender.values)                                          # sum the total gender, 50                      \n",
    "myX = gender.values[1]                                              # select F, 20\n",
    "\n",
    "cofidence_level=0.95                                                # specify the confidence level \n",
    "alpha=(1-cofidence_level)                                           # calculate alpha (significance level) \n",
    "print('Significance level, α=%.2f '%(alpha), \"\\n\")\n",
    "\n",
    "pvalue = stats.binom_test(myX,mysum,p=0.5,alternative='two-sided') # p=0.5 refering to proportion 50%, default test function is for 2 tail test\n",
    "print('P Value: %.3f' %pvalue)\n",
    "\n",
    "if pvalue < alpha: \n",
    "    print('The null hypothesis is rejected') \n",
    "    print('The proportion of female registered cell phone is ≠ 50%') \n",
    "else: \n",
    "    print('The null hypothesis is accepted') \n",
    "    print('The proportion of female registered cell phone is = 50% (claim)')"
   ]
  },
  {
   "cell_type": "markdown",
   "metadata": {},
   "source": [
    "**Hypothesis Testing**\n",
    "\n",
    "Based on the observation, it is clear that female users are not equal or less than 50%. However, the p-value result shows differently & it is likely to be a Type II error. This is where the null hypothesis is not rejected when the alternative hypothesis is true."
   ]
  },
  {
   "cell_type": "code",
   "execution_count": 7,
   "metadata": {},
   "outputs": [
    {
     "data": {
      "image/png": "[encoded data removed]",
      "text/plain": [
       "<Figure size 432x288 with 1 Axes>"
      ]
     },
     "metadata": {
      "needs_background": "light"
     },
     "output_type": "display_data"
    }
   ],
   "source": [
    "# the differences total spend based on gender\n",
    "# checking total spend column\n",
    "# perform visual normality test\n",
    "\n",
    "qqplot(data[\"Total $'s spent\"], line='s')\n",
    "plt.show()"
   ]
  },
  {
   "cell_type": "code",
   "execution_count": 8,
   "metadata": {},
   "outputs": [
    {
     "name": "stdout",
     "output_type": "stream",
     "text": [
      "Hypothesis Statement\n",
      "H_null - Data is normally distributed\n",
      "H_alt - Data is not normally distributed \n",
      "\n",
      "Kolmogorov-Smirnov Statistics=0.190, p_value=0.047\n",
      "The null hypothesis is rejected\n",
      "Data is NOT NORMALLY distributed\n"
     ]
    }
   ],
   "source": [
    "# perform numerical normality test\n",
    "# using the Kolmogorov Smirnov Test\n",
    "\n",
    "confidence_level = 0.95                         # specify the confidence level\n",
    "alpha = (1-confidence_level)                    # calculate alpha \n",
    "\n",
    "price = data[\"Total $'s spent\"]\n",
    "loc, scale = stats.norm.fit(price) \n",
    "n = stats.norm(loc=loc, scale=scale)            # create a normal distribution with loc and s \n",
    "\n",
    "stats,pvalue=stats.kstest(price, n.cdf)         # return KS value and P-value\n",
    "print('Hypothesis Statement')\n",
    "print('H_null - Data is normally distributed')\n",
    "print('H_alt - Data is not normally distributed', \"\\n\")\n",
    "print('Kolmogorov-Smirnov Statistics=%.3f, p_value=%.3f' % (stats, pvalue))\n",
    "\n",
    "if pvalue < alpha:                              # \n",
    "    print('The null hypothesis is rejected') \n",
    "    print('Data is NOT NORMALLY distributed') \n",
    "else: \n",
    "    print('The null hypothesis is accepted') \n",
    "    print('Data is NORMALLY distributed')"
   ]
  },
  {
   "cell_type": "code",
   "execution_count": 14,
   "metadata": {},
   "outputs": [
    {
     "name": "stdout",
     "output_type": "stream",
     "text": [
      "HYPOTHESIS STATEMENT\n",
      "H_NULL: Spend money on phone between men & women are equal (claim)\n",
      "H_ALT: Spend money on phone between men & women are not equal \n",
      "\n",
      "Significance level, α=0.05  \n",
      "\n",
      "Ttest_indResult=-2.158, p_value=0.036\n",
      "The null hypothesis is rejected as P-value is less than α \n"
     ]
    }
   ],
   "source": [
    "# proceed to conduct statistical testing using non parametric Median Test\n",
    "\n",
    "print('HYPOTHESIS STATEMENT')\n",
    "print('H_NULL: Spend money on phone between men & women are equal (claim)')\n",
    "print(\"H_ALT: Spend money on phone between men & women are not equal\" , \"\\n\")\n",
    "\n",
    "female_mps = list(data[data.Gender=='F'][\"Total $'s spent\"])                    # the scipy.stats.ttest_ind function require array data\n",
    "male_mps = list(data[data.Gender=='M'][\"Total $'s spent\"])                      # pull array of mobile phone price based on gender\n",
    "\n",
    "confidence_level = 0.95                                                         # specify the confidence level\n",
    "alpha = (1-confidence_level)  \n",
    "print('Significance level, α=%.2f '%(alpha), \"\\n\")\n",
    "\n",
    "stats,pvalue= scipy.stats.ttest_ind(a=female_mps, b=male_mps, equal_var=True)   # Median Test           \n",
    "print('Ttest_indResult=%.3f, p_value=%.3f' % (stats, pvalue))\n",
    "\n",
    "if(pvalue)<alpha:                                                               # decision on statistical test\n",
    "    print('The null hypothesis is rejected as P-value is less than α ')\n",
    "else:\n",
    "    print('The null hypothesis is accepted as P-value is more than α')"
   ]
  },
  {
   "cell_type": "code",
   "execution_count": 15,
   "metadata": {},
   "outputs": [
    {
     "name": "stdout",
     "output_type": "stream",
     "text": [
      "Total female spend: 2245.0 Total male spend: 4519.0\n"
     ]
    }
   ],
   "source": [
    "# Further checking the hypothesis\n",
    "\n",
    "female_total = data[data.Gender=='F'][\"Total $'s spent\"].sum()\n",
    "male_total = data[data.Gender=='M'][\"Total $'s spent\"].sum()\n",
    "\n",
    "print(\"Total female spend:\", female_total, \"Total male spend:\", male_total)"
   ]
  },
  {
   "cell_type": "markdown",
   "metadata": {},
   "source": [
    "**Conclusion**\n",
    "\n",
    "Population parameter is the mean of out-of-pocket prescription drug expenses. Based on the statement given, the hypothesis can be described as follow:\n",
    "\n",
    "- Null Hypothesis: The total spend between men & women are equal (claim)\n",
    "- Alternative Hypothesis: The total spend between men & women are not equal\n",
    "\n",
    "This is a two side or two tailed test. Level of significance is 95% so alpha value will be at 0.05. Since the variable is more than 50 samples, Kolmogorov test was tested for normality checking. It was found that the data is not normally distributed with a p-value of 0.047. Next, the median test will be used to conduct the hypothesis testing as two samples are independent. The p-value is at 0.036 level of significance, the null hypothesis is rejected as p–value is less than alpha.\n",
    "\n",
    "\n"
   ]
  }
 ],
 "metadata": {
  "kernelspec": {
   "display_name": "Python 3.8.8 ('base')",
   "language": "python",
   "name": "python3"
  },
  "language_info": {
   "codemirror_mode": {
    "name": "ipython",
    "version": 3
   },
   "file_extension": ".py",
   "mimetype": "text/x-python",
   "name": "python",
   "nbconvert_exporter": "python",
   "pygments_lexer": "ipython3",
   "version": "3.8.8"
  },
  "orig_nbformat": 4,
  "vscode": {
   "interpreter": {
    "hash": "9c1d5a056f04d97314a9f946bc8c5185004572d3d68312220c0ba298420421f7"
   }
  }
 },
 "nbformat": 4,
 "nbformat_minor": 2
}
