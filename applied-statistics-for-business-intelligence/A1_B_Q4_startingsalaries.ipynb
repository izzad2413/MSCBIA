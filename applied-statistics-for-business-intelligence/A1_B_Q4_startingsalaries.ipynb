{
 "cells": [
  {
   "cell_type": "markdown",
   "metadata": {},
   "source": [
    "**Question 4**\n",
    "\n",
    "Suppose a professional job-placement firm that monitors salaries in professional fields is interested in determining if the fluctuating price of oil and the outsourcing of computer-related jobs have had an effect on the starting salaries of chemical and electrical engineering graduates. Specifically, the job placement firm would like to know if the 2007 average starting salary for chemical engineering majors is higher than the 2007 average starting salary for electrical engineering majors. To conduct its test, the job placement firm has selected a random sample of 124 electrical engineering majors and 110 chemical engineering majors who graduated and received jobs in 2007. Each graduate was asked to report his or her starting salary. The results of the survey are contained in the file Starting Salaries. Conduct a hypothesis test to determine whether any differences between mean starting salary for 2007 graduates in chemical engineering with mean starting salary for 2007 graduates in electrical engineering. Conduct the test at the 0.05 level of significance. Be sure to test the normality assumption."
   ]
  },
  {
   "cell_type": "code",
   "execution_count": 1,
   "metadata": {},
   "outputs": [],
   "source": [
    "import pandas as pd\n",
    "import numpy as np\n",
    "from scipy import stats\n",
    "import scipy.stats"
   ]
  },
  {
   "cell_type": "code",
   "execution_count": 2,
   "metadata": {},
   "outputs": [
    {
     "name": "stdout",
     "output_type": "stream",
     "text": [
      "   Respondent  Chemical Engineering  Electrical Engineering\n",
      "0           1              47566.41                55343.45\n",
      "1           2              57511.62                42283.10\n",
      "2           3              49072.40                51514.75\n",
      "3           4              56444.62                53061.35\n",
      "4           5              54530.10                55644.15\n",
      "Respondent                 0\n",
      "Chemical Engineering      14\n",
      "Electrical Engineering     0\n",
      "dtype: int64\n"
     ]
    }
   ],
   "source": [
    "df = pd.read_excel(\"StartingSalaries.xlsx\", sheet_name=\"Data\")\n",
    "print(df.head(5))\n",
    "print(df.isnull().sum())"
   ]
  },
  {
   "cell_type": "code",
   "execution_count": 3,
   "metadata": {},
   "outputs": [
    {
     "name": "stdout",
     "output_type": "stream",
     "text": [
      "Respondent                0\n",
      "Chemical Engineering      0\n",
      "Electrical Engineering    0\n",
      "dtype: int64\n"
     ]
    }
   ],
   "source": [
    "# replacing Nan with 0 value\n",
    "\n",
    "df['Chemical Engineering'] = df['Chemical Engineering'].fillna(0)\n",
    "print(df.isnull().sum())"
   ]
  },
  {
   "cell_type": "code",
   "execution_count": 4,
   "metadata": {},
   "outputs": [
    {
     "name": "stdout",
     "output_type": "stream",
     "text": [
      "124\n",
      "124\n"
     ]
    }
   ],
   "source": [
    "# pull the chemical & electrical features\n",
    "\n",
    "chem_eng = list(df[\"Chemical Engineering\"])\n",
    "elec_eng = list(df[\"Electrical Engineering\"])\n",
    "print(len(chem_eng))\n",
    "print(len(elec_eng))"
   ]
  },
  {
   "cell_type": "code",
   "execution_count": 5,
   "metadata": {},
   "outputs": [
    {
     "name": "stdout",
     "output_type": "stream",
     "text": [
      "Significance level, α=0.05  \n",
      "\n",
      "Ttest_relResult=-1.998, p_value=0.047\n",
      "The null hypothesis is rejected as P-value is less than α \n"
     ]
    }
   ],
   "source": [
    "# data is normaly distributed\n",
    "# test with parametric independent test\n",
    "\n",
    "confidence_level = 0.95                                                         # specify the confidence level\n",
    "alpha = (1-confidence_level)\n",
    "print('Significance level, α=%.2f '%(alpha), \"\\n\")\n",
    "\n",
    "stats,pvalue = scipy.stats.ttest_ind(chem_eng, elec_eng, axis=0, alternative=\"two-sided\") # two independent t test   \n",
    "print('Ttest_relResult=%.3f, p_value=%.3f' % (stats, pvalue))\n",
    "\n",
    "if(pvalue)<alpha:                                                               # decision on statistical test\n",
    "    print('The null hypothesis is rejected as P-value is less than α ')\n",
    "else:\n",
    "    print('The null hypothesis is accepted as P-value is more than α')\n"
   ]
  },
  {
   "cell_type": "code",
   "execution_count": 6,
   "metadata": {},
   "outputs": [
    {
     "name": "stdout",
     "output_type": "stream",
     "text": [
      "48051.37540322581\n",
      "51392.92612903225\n"
     ]
    }
   ],
   "source": [
    "# quick check for the mean\n",
    "\n",
    "print(df[\"Chemical Engineering\"].mean())\n",
    "print(df[\"Electrical Engineering\"].mean())"
   ]
  }
 ],
 "metadata": {
  "kernelspec": {
   "display_name": "Python 3.8.8 ('base')",
   "language": "python",
   "name": "python3"
  },
  "language_info": {
   "codemirror_mode": {
    "name": "ipython",
    "version": 3
   },
   "file_extension": ".py",
   "mimetype": "text/x-python",
   "name": "python",
   "nbconvert_exporter": "python",
   "pygments_lexer": "ipython3",
   "version": "3.8.8"
  },
  "orig_nbformat": 4,
  "vscode": {
   "interpreter": {
    "hash": "9c1d5a056f04d97314a9f946bc8c5185004572d3d68312220c0ba298420421f7"
   }
  }
 },
 "nbformat": 4,
 "nbformat_minor": 2
}
