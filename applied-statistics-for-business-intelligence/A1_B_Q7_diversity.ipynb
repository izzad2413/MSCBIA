{
 "cells": [
  {
   "cell_type": "markdown",
   "metadata": {},
   "source": [
    "**Question 7**\n",
    "\n",
    "USA Today notes (Mary Beth Marklein, “College Gender Gap Widens: 57% Are Women”) that there are more men than women ages 18–24 in the United States—15 million versus 14.2 million. The male/female ratio in colleges today is 42.6/57.4. However, there is a discrepancy in the percentage of males’ dependent on their parents’ income. The file entitled Diversity contains the gender of undergrads (18–24) whose parents’ income is in two categories: (1) low income—less than $30,000, and (2) upper income—$70,000 or more. Perform a test of hypothesis to determine that the proportion of male undergraduates in the upper income category is more than 1% greater than that of the low-income category. Use a significance level of 0.01."
   ]
  },
  {
   "cell_type": "markdown",
   "metadata": {},
   "source": [
    "**Summarize**\n",
    "\n",
    "- Population parameter is the proportion of male undergraduates between upper & lower income category\n",
    "- Null Hypothesis: The proportion of male undergraduates in upper income is less or equal 1% than low income category\n",
    "- Alternative Hypothesis: The proportion of male undergraduates in upper income is more than 1% than low income category (claim)\n",
    "- Based on the statement given, one sided (right) or one tailed test\n",
    "- Level of significance is 99%\n",
    "- Alpha value is at 0.01"
   ]
  },
  {
   "cell_type": "code",
   "execution_count": 1,
   "metadata": {},
   "outputs": [],
   "source": [
    "# import all relevant python libraries\n",
    "\n",
    "import numpy as np\n",
    "import pandas as pd\n",
    "from statsmodels.graphics.gofplots import qqplot\n",
    "import matplotlib.pyplot as plt\n",
    "from scipy import stats\n",
    "import scipy.stats"
   ]
  },
  {
   "cell_type": "code",
   "execution_count": 2,
   "metadata": {},
   "outputs": [
    {
     "name": "stdout",
     "output_type": "stream",
     "text": [
      "  UpperIncome LowIncome\n",
      "0        Male    Female\n",
      "1      Female    Female\n",
      "2        Male    Female\n",
      "3        Male    Female\n",
      "4        Male      Male \n",
      "\n",
      "UpperIncome    object\n",
      "LowIncome      object\n",
      "dtype: object \n",
      "\n",
      "(147, 2) \n",
      "\n",
      "UpperIncome     0\n",
      "LowIncome      27\n",
      "dtype: int64\n"
     ]
    }
   ],
   "source": [
    "# checking the dataset\n",
    "\n",
    "df = pd.read_excel(\"Diversity.xlsx\", sheet_name=\"Data\", usecols=np.r_[0:2], header=0)        # they are undefine features appear when file being load, use usecols arg to retrive certain columns\n",
    "print(df.head(5), \"\\n\")\n",
    "print(df.dtypes, \"\\n\")\n",
    "print(df.shape, \"\\n\")\n",
    "print(df.isnull().sum())"
   ]
  },
  {
   "cell_type": "code",
   "execution_count": 3,
   "metadata": {},
   "outputs": [
    {
     "name": "stdout",
     "output_type": "stream",
     "text": [
      "Frequency Distribution\n",
      "Female    75\n",
      "Male      72\n",
      "Name: UpperIncome, dtype: int64 \n",
      "\n",
      "Female    72\n",
      "Male      48\n",
      "Name: LowIncome, dtype: int64\n"
     ]
    }
   ],
   "source": [
    "print(\"Frequency Distribution\")\n",
    "upperincome = df.UpperIncome.value_counts()\n",
    "print(upperincome,\"\\n\")\n",
    "lowincome = df.LowIncome.value_counts()\n",
    "print(lowincome)"
   ]
  },
  {
   "cell_type": "code",
   "execution_count": 4,
   "metadata": {},
   "outputs": [
    {
     "name": "stdout",
     "output_type": "stream",
     "text": [
      "Male UpperIncome: 72\n",
      "Male LowIncome: 48\n",
      "Total: 120\n"
     ]
    }
   ],
   "source": [
    "# pulling only male data\n",
    "\n",
    "male_upperincome = len(list(df[df['UpperIncome']=='Male']['UpperIncome']))\n",
    "male_lowincome = len(list(df[df['LowIncome']=='Male']['LowIncome']))\n",
    "total = male_upperincome + male_lowincome\n",
    "\n",
    "print(\"Male UpperIncome:\", male_upperincome)\n",
    "print(\"Male LowIncome:\", male_lowincome)\n",
    "print(\"Total:\", total)"
   ]
  },
  {
   "cell_type": "code",
   "execution_count": 7,
   "metadata": {},
   "outputs": [
    {
     "name": "stdout",
     "output_type": "stream",
     "text": [
      "HYPOTHESIS STATEMENT\n",
      "H_NULL: The proportion of male undergraduates in upper income less or equal 1% than low income category\n",
      "H_ALT: The proportion of male undergraduates in upper income more than 1% than low income category (claim) \n",
      "\n",
      "Significance level, α=0.01  \n",
      "\n",
      "P Value: 0.000\n",
      "The null hypothesis is rejected\n",
      "The proportion of male undergraduates in upper income is less or equal 1% than low income category\n"
     ]
    }
   ],
   "source": [
    "# perform non parametric proportion nominal data (binomial test)\n",
    "# one tail test\n",
    "\n",
    "print('HYPOTHESIS STATEMENT')\n",
    "print('H_NULL: The proportion of male undergraduates in upper income less or equal 1% than low income category')\n",
    "print('H_ALT: The proportion of male undergraduates in upper income more than 1% than low income category (claim)', \"\\n\")\n",
    "\n",
    "cofidence_level=0.99                                                            # specify the confidence level \n",
    "alpha=(1-cofidence_level)                                                       # calculate alpha (significance level) \n",
    "print('Significance level, α=%.2f '%(alpha), \"\\n\")\n",
    "\n",
    "pvalue = stats.binom_test(male_upperincome,total,p=0.01,alternative='greater')  \n",
    "print('P Value: %.3f' %pvalue)\n",
    "\n",
    "if pvalue < alpha: \n",
    "    print('The null hypothesis is rejected') \n",
    "    print('The proportion of male undergraduates in upper income is less or equal 1% than low income category') \n",
    "else: \n",
    "    print('The null hypothesis is accepted') \n",
    "    print('The proportion of male undergraduates in upper income is more than 1% than low income category (claim)')"
   ]
  },
  {
   "cell_type": "markdown",
   "metadata": {},
   "source": [
    "**Conclusion**\n",
    "\n",
    "Population parameter is the proportion of male undergraduates between upper & lower income category. Based on the statement given, the hypothesis can be described as follow:\n",
    "\n",
    "- Null Hypothesis: The proportion of male undergraduates in upper income is less or equal 1% than low income category \n",
    "- Alternative Hypothesis: The proportion of male undergraduates in upper income is more than 1% than low income category (claim)\n",
    "\n",
    "This is a one side or one tailed test. Level of significance is 99% so alpha value will be at 0.01. The samples are not required to undergo normality tests since they are qualitative data. Next, the binomial test will be used to conduct the hypothesis testing as the samples are in the qualitative nominal category. The p-value is at 0.000 level of significance, the null hypothesis is rejected as p–value is less than alpha.\n",
    "\n"
   ]
  }
 ],
 "metadata": {
  "kernelspec": {
   "display_name": "Python 3.8.8 ('base')",
   "language": "python",
   "name": "python3"
  },
  "language_info": {
   "codemirror_mode": {
    "name": "ipython",
    "version": 3
   },
   "file_extension": ".py",
   "mimetype": "text/x-python",
   "name": "python",
   "nbconvert_exporter": "python",
   "pygments_lexer": "ipython3",
   "version": "3.8.8"
  },
  "orig_nbformat": 4,
  "vscode": {
   "interpreter": {
    "hash": "9c1d5a056f04d97314a9f946bc8c5185004572d3d68312220c0ba298420421f7"
   }
  }
 },
 "nbformat": 4,
 "nbformat_minor": 2
}
