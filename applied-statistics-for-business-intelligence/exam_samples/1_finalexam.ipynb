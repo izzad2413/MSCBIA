{
 "cells": [
  {
   "attachments": {},
   "cell_type": "markdown",
   "metadata": {},
   "source": [
    "## Final Exam Statistics Semester 1"
   ]
  },
  {
   "attachments": {},
   "cell_type": "markdown",
   "metadata": {},
   "source": [
    "### Contents\n",
    "\n",
    "- <a href='#1-ComputerUse'>1 - ComputerUse</a>\n",
    "- <a href='#2-Marriott'>2 - Marriott</a>\n",
    "- <a href='#3-SpeedTest'>3 - SpeedTest</a>\n",
    "- <a href='#4-CPI'>4 - CPI</a>\n",
    "- <a href='#5-NBA2008'>5 - NBA2008</a>\n",
    "- <a href='#6-MovieRevenues'>6 - Movie Revenues</a>\n",
    "- <a href='#7-LinkedInMembers'>7 - LinkedIn Members</a>"
   ]
  },
  {
   "cell_type": "code",
   "execution_count": 38,
   "metadata": {},
   "outputs": [],
   "source": [
    "import pandas as pd\n",
    "import numpy as np\n",
    "import matplotlib.pyplot as plt\n",
    "import seaborn as sns"
   ]
  },
  {
   "attachments": {},
   "cell_type": "markdown",
   "metadata": {},
   "source": [
    "<a id='1-ComputerUse'></a>\n",
    "\n",
    "#### 1 - ComputerUse\n"
   ]
  },
  {
   "cell_type": "code",
   "execution_count": 2,
   "metadata": {},
   "outputs": [
    {
     "name": "stdout",
     "output_type": "stream",
     "text": [
      "Credit Hours            0\n",
      "Major                   0\n",
      "Comp. Use               0\n",
      "Comp. Hrs.              0\n",
      "Labs                    0\n",
      "Benefit                 0\n",
      "Higher Tuition          0\n",
      "Enrollment Decision     0\n",
      "Price willing to pay    0\n",
      "dtype: int64 \n",
      "\n",
      "<class 'pandas.core.frame.DataFrame'>\n",
      "Int64Index: 238 entries, 0 to 237\n",
      "Data columns (total 9 columns):\n",
      " #   Column                Non-Null Count  Dtype  \n",
      "---  ------                --------------  -----  \n",
      " 0   Credit Hours          238 non-null    float64\n",
      " 1   Major                 238 non-null    float64\n",
      " 2   Comp. Use             238 non-null    float64\n",
      " 3   Comp. Hrs.            238 non-null    float64\n",
      " 4   Labs                  238 non-null    float64\n",
      " 5   Benefit               238 non-null    float64\n",
      " 6   Higher Tuition        238 non-null    float64\n",
      " 7   Enrollment Decision   238 non-null    float64\n",
      " 8   Price willing to pay  238 non-null    float64\n",
      "dtypes: float64(9)\n",
      "memory usage: 18.6 KB\n",
      "None \n",
      "\n",
      "(238, 9)\n"
     ]
    }
   ],
   "source": [
    "cu = pd.read_csv(\"1_ComputerUse.csv\",usecols=np.r_[0:9], header=0)\n",
    "cu = cu.dropna()\n",
    "print(cu.isnull().sum(),\"\\n\")\n",
    "print(cu.info(),\"\\n\")\n",
    "print(cu.shape)"
   ]
  },
  {
   "cell_type": "code",
   "execution_count": 3,
   "metadata": {},
   "outputs": [
    {
     "data": {
      "image/png": "[encoded data removed]",
      "text/plain": [
       "<Figure size 432x288 with 1 Axes>"
      ]
     },
     "metadata": {
      "needs_background": "light"
     },
     "output_type": "display_data"
    }
   ],
   "source": [
    "# visualizing box plot\n",
    "\n",
    "fig, ax = plt.subplots()\n",
    "\n",
    "ax.boxplot(cu[\"Price willing to pay\"])\n",
    "ax.set_ylabel(\"Price willing to pay\")\n",
    "plt.show()"
   ]
  },
  {
   "cell_type": "code",
   "execution_count": 4,
   "metadata": {},
   "outputs": [
    {
     "data": {
      "text/plain": [
       "count     238.000000\n",
       "mean      844.457983\n",
       "std       435.040127\n",
       "min       100.000000\n",
       "25%       507.500000\n",
       "50%       800.000000\n",
       "75%      1100.000000\n",
       "max      3750.000000\n",
       "Name: Price willing to pay, dtype: float64"
      ]
     },
     "execution_count": 4,
     "metadata": {},
     "output_type": "execute_result"
    }
   ],
   "source": [
    "# descriptive summary\n",
    "\n",
    "cu[\"Price willing to pay\"].describe()"
   ]
  },
  {
   "cell_type": "code",
   "execution_count": 5,
   "metadata": {},
   "outputs": [
    {
     "name": "stdout",
     "output_type": "stream",
     "text": [
      "('The outliers are as follows:', [3750.0, 2300.0])\n"
     ]
    }
   ],
   "source": [
    "# creating detecting outliers function using Z score\n",
    "\n",
    "def detect_outlier(data_1):\n",
    "    outliers=[]\n",
    "    threshold=3\n",
    "    mean_1 = np.mean(data_1)\n",
    "    std_1 =np.std(data_1)\n",
    "    \n",
    "    for y in data_1:\n",
    "        z_score= (y - mean_1)/std_1 \n",
    "        if np.abs(z_score) > threshold:\n",
    "            outliers.append(y)\n",
    "    return \"The outliers are as follows:\",outliers\n",
    "\n",
    "# test the function on the dataset\n",
    "cu_outliers = detect_outlier(cu[\"Price willing to pay\"])\n",
    "print(cu_outliers)"
   ]
  },
  {
   "cell_type": "code",
   "execution_count": 6,
   "metadata": {},
   "outputs": [
    {
     "name": "stdout",
     "output_type": "stream",
     "text": [
      "2.0    101\n",
      "1.0     48\n",
      "3.0     43\n",
      "5.0     41\n",
      "4.0      5\n",
      "Name: Labs, dtype: int64 \n",
      "\n",
      "The null hypothesis is rejected\n",
      "chisquare=99.395, p_value=0.000\n",
      "\n"
     ]
    }
   ],
   "source": [
    "# hypothesis testi for Labs variable\n",
    "# use non parametric chi square \n",
    "\n",
    "# import stats library\n",
    "from scipy.stats import chisquare\n",
    "\n",
    "# getting the variable from dataset\n",
    "labs_freq = cu.Labs.value_counts()\n",
    "print(labs_freq,\"\\n\")\n",
    "\n",
    "# creating the function\n",
    "def chisquare_test(data,cl):\n",
    "    cl = 1 - cl\n",
    "    stats, p = chisquare(data)\n",
    "    result = 'chisquare=%.3f, p_value=%.3f\\n' % (stats, p)\n",
    "    if p < cl:\n",
    "        print('The null hypothesis is rejected')  \n",
    "    else: \n",
    "        print('The null hypothesis is accepted') \n",
    "    return result\n",
    "\n",
    "# conduct stats test\n",
    "print(chisquare_test(data=labs_freq,cl=0.95))"
   ]
  },
  {
   "attachments": {},
   "cell_type": "markdown",
   "metadata": {},
   "source": [
    "<a id='2-Marriott'></a>\n",
    "\n",
    "#### 2 - Marriott\n"
   ]
  },
  {
   "cell_type": "code",
   "execution_count": 7,
   "metadata": {},
   "outputs": [
    {
     "name": "stdout",
     "output_type": "stream",
     "text": [
      "Fairfield Inn    0\n",
      "Residence Inn    0\n",
      "dtype: int64 \n",
      "\n",
      "<class 'pandas.core.frame.DataFrame'>\n",
      "Int64Index: 100 entries, 0 to 99\n",
      "Data columns (total 2 columns):\n",
      " #   Column         Non-Null Count  Dtype\n",
      "---  ------         --------------  -----\n",
      " 0   Fairfield Inn  100 non-null    int64\n",
      " 1   Residence Inn  100 non-null    int64\n",
      "dtypes: int64(2)\n",
      "memory usage: 2.3 KB\n",
      "None \n",
      "\n",
      "(100, 2) \n",
      "\n",
      "   Fairfield Inn  Residence Inn\n",
      "0              3              5\n",
      "1              1              2\n",
      "2              2              2\n",
      "3              1              3\n",
      "4              1              8\n"
     ]
    }
   ],
   "source": [
    "m = pd.read_excel(\"1_Marriott.xlsx\",header=0)\n",
    "m = m.dropna()\n",
    "print(m.isnull().sum(),\"\\n\")\n",
    "print(m.info(),\"\\n\")\n",
    "print(m.shape,\"\\n\")\n",
    "print(m.head(5))"
   ]
  },
  {
   "cell_type": "code",
   "execution_count": 8,
   "metadata": {},
   "outputs": [
    {
     "name": "stdout",
     "output_type": "stream",
     "text": [
      "The null hypothesis is rejected\n",
      "Data is NOT NORMALLY distributed\n",
      "Kalmogorov Statistics=0.170, p_value=0.005\n",
      "\n",
      "The null hypothesis is rejected\n",
      "Data is NOT NORMALLY distributed\n",
      "Kalmogorov Statistics=0.184, p_value=0.002\n",
      "\n"
     ]
    }
   ],
   "source": [
    "# conduct numerical normality test \n",
    "# observation is more than 50, proceed with Kalmogorov Test\n",
    "\n",
    "# import relevant library\n",
    "import scipy.stats\n",
    "from scipy.stats import norm\n",
    "from scipy.stats import kstest \n",
    "\n",
    "# create the function\n",
    "def kalmogorov_test(cl,data):\n",
    "    a = 1 - cl\n",
    "    loc, scale = norm.fit(data) \n",
    "    n = norm(loc=loc, scale=scale)    \n",
    "    stats,p=scipy.stats.kstest(data, n.cdf)  \n",
    "    result = 'Kalmogorov Statistics=%.3f, p_value=%.3f\\n' % (stats, p)\n",
    "    if p < a:\n",
    "        print('The null hypothesis is rejected') \n",
    "        print('Data is NOT NORMALLY distributed') \n",
    "    else: \n",
    "        print('The null hypothesis is accepted') \n",
    "        print('Data is NORMALLY distributed')\n",
    "    return result\n",
    "\n",
    "# conduct normality test\n",
    "print(kalmogorov_test(cl=0.95,data=m[\"Fairfield Inn\"]))\n",
    "print(kalmogorov_test(cl=0.95,data=m[\"Residence Inn\"]))"
   ]
  },
  {
   "cell_type": "code",
   "execution_count": 9,
   "metadata": {},
   "outputs": [
    {
     "name": "stdout",
     "output_type": "stream",
     "text": [
      "The null hypothesis is accepted as P-value is more than α\n",
      "Mann-Whitney Statistics=4419.500, p_value=0.075\n",
      "\n"
     ]
    }
   ],
   "source": [
    "# perform non parametric test either median or mann-whitney test\n",
    "\n",
    "from scipy.stats import mannwhitneyu\n",
    "\n",
    "def mwt_test(cl,x1,x2):\n",
    "    a = 1 - cl\n",
    "    stats, p = scipy.stats.mannwhitneyu(x1,x2)\n",
    "    result = 'Mann-Whitney Statistics=%.3f, p_value=%.3f\\n' % (stats, p)\n",
    "    if p < a:\n",
    "        print('The null hypothesis is rejected as P-value is less than α') \n",
    "    else: \n",
    "        print('The null hypothesis is accepted as P-value is more than α') \n",
    "    return result\n",
    "\n",
    "print(mwt_test(cl=0.95,x1=m[\"Fairfield Inn\"],x2=m[\"Residence Inn\"]))"
   ]
  },
  {
   "attachments": {},
   "cell_type": "markdown",
   "metadata": {},
   "source": [
    "<a id='3-SpeedTest'></a>\n",
    "\n",
    "#### 3 - SpeedTest\n"
   ]
  },
  {
   "cell_type": "code",
   "execution_count": 22,
   "metadata": {},
   "outputs": [
    {
     "name": "stdout",
     "output_type": "stream",
     "text": [
      "California Cars       0\n",
      "Out-of-State Cars    65\n",
      "dtype: int64 \n",
      "\n",
      "<class 'pandas.core.frame.DataFrame'>\n",
      "RangeIndex: 140 entries, 0 to 139\n",
      "Data columns (total 2 columns):\n",
      " #   Column             Non-Null Count  Dtype  \n",
      "---  ------             --------------  -----  \n",
      " 0   California Cars    140 non-null    int64  \n",
      " 1   Out-of-State Cars  75 non-null     float64\n",
      "dtypes: float64(1), int64(1)\n",
      "memory usage: 2.3 KB\n",
      "None \n",
      "\n",
      "(140, 2) \n",
      "\n",
      "   California Cars  Out-of-State Cars\n",
      "0               66               63.0\n",
      "1               66               54.0\n",
      "2               58               59.0\n",
      "3               68               58.0\n",
      "4               63               59.0\n"
     ]
    }
   ],
   "source": [
    "st = pd.read_excel(\"1_SpeedTest.xlsx\",header=0)\n",
    "print(st.isnull().sum(),\"\\n\")\n",
    "print(st.info(),\"\\n\")\n",
    "print(st.shape,\"\\n\")\n",
    "print(st.head(5))"
   ]
  },
  {
   "cell_type": "code",
   "execution_count": 41,
   "metadata": {},
   "outputs": [
    {
     "name": "stdout",
     "output_type": "stream",
     "text": [
      "     California Cars\n",
      "0               66.0\n",
      "1               66.0\n",
      "2               58.0\n",
      "3               68.0\n",
      "4               63.0\n",
      "..               ...\n",
      "135             50.0\n",
      "136             63.0\n",
      "137             67.0\n",
      "138             63.0\n",
      "139             61.0\n",
      "\n",
      "[140 rows x 1 columns]\n",
      "    Out-of-State Cars\n",
      "0                63.0\n",
      "1                54.0\n",
      "2                59.0\n",
      "3                58.0\n",
      "4                59.0\n",
      "..                ...\n",
      "70               64.0\n",
      "71               52.0\n",
      "72               64.0\n",
      "73               72.0\n",
      "74               59.0\n",
      "\n",
      "[75 rows x 1 columns]\n"
     ]
    }
   ],
   "source": [
    "# splitting the variables from the dataframe\n",
    "\n",
    "cc = st[\"California Cars\"].astype(\"float\").to_frame()\n",
    "osc = st[\"Out-of-State Cars\"].to_frame()\n",
    "osc = osc.dropna()\n",
    "\n",
    "print(cc)\n",
    "print(osc)"
   ]
  },
  {
   "cell_type": "code",
   "execution_count": 30,
   "metadata": {},
   "outputs": [
    {
     "name": "stdout",
     "output_type": "stream",
     "text": [
      "The null hypothesis is accepted\n",
      "Data is NORMALLY distributed\n",
      "Kalmogorov Statistics=0.051, p_value=0.842\n",
      "\n",
      "The null hypothesis is accepted\n",
      "Data is NORMALLY distributed\n",
      "Kalmogorov Statistics=0.089, p_value=0.568\n",
      "\n"
     ]
    }
   ],
   "source": [
    "# observation is more than 50, proceed with Kalmogorov Test\n",
    "# conduct normality test\n",
    "\n",
    "print(kalmogorov_test(cl=0.95,data=cc))\n",
    "print(kalmogorov_test(cl=0.95,data=osc))"
   ]
  },
  {
   "cell_type": "code",
   "execution_count": 31,
   "metadata": {},
   "outputs": [
    {
     "name": "stdout",
     "output_type": "stream",
     "text": [
      "The null hypothesis is rejected as P-value is less than α\n",
      "One Sample T-test Statistics=3.674, p_value=0.000\n",
      "\n"
     ]
    }
   ],
   "source": [
    "# proceed to conduct statistical testing using parametric one sample T-Test\n",
    "\n",
    "# import the library\n",
    "from scipy.stats import ttest_1samp  \n",
    "\n",
    "def one_sample_ttest(cl,data,test_val):\n",
    "    a = 1 - cl\n",
    "    stats,p = ttest_1samp(data,test_val)\n",
    "    result = 'One Sample T-test Statistics=%.3f, p_value=%.3f\\n' % (stats, p)\n",
    "    if(p/2)<a:                                               \n",
    "        print('The null hypothesis is rejected as P-value is less than α')\n",
    "    else:\n",
    "        print('The null hypothesis is accepted as P-value is more than α')\n",
    "    return result\n",
    "\n",
    "# conduct the test\n",
    "print(one_sample_ttest(cl=0.90,data=st[\"California Cars\"],test_val=61.96))"
   ]
  },
  {
   "attachments": {},
   "cell_type": "markdown",
   "metadata": {},
   "source": [
    "<a id='4-CPI'></a>\n",
    "\n",
    "#### 4 - CPI\n"
   ]
  },
  {
   "cell_type": "code",
   "execution_count": 32,
   "metadata": {},
   "outputs": [
    {
     "name": "stdout",
     "output_type": "stream",
     "text": [
      "Year            0\n",
      "Month           0\n",
      "Unemployment    0\n",
      "CPI             0\n",
      "Inflation       0\n",
      "dtype: int64 \n",
      "\n",
      "<class 'pandas.core.frame.DataFrame'>\n",
      "RangeIndex: 144 entries, 0 to 143\n",
      "Data columns (total 5 columns):\n",
      " #   Column        Non-Null Count  Dtype  \n",
      "---  ------        --------------  -----  \n",
      " 0   Year          144 non-null    int64  \n",
      " 1   Month         144 non-null    int64  \n",
      " 2   Unemployment  144 non-null    float64\n",
      " 3   CPI           144 non-null    float64\n",
      " 4   Inflation     144 non-null    float64\n",
      "dtypes: float64(3), int64(2)\n",
      "memory usage: 5.8 KB\n",
      "None \n",
      "\n",
      "(144, 5) \n",
      "\n",
      "   Year  Month  Unemployment    CPI  Inflation\n",
      "0  2000      1           4.0  169.3      0.296\n",
      "1  2000      2           4.1  170.0      0.413\n",
      "2  2000      3           4.0  171.0      0.588\n",
      "3  2000      4           3.8  170.9     -0.058\n",
      "4  2000      5           4.0  171.2      0.176\n"
     ]
    }
   ],
   "source": [
    "cpi = pd.read_excel(\"1-2_CPI.xlsx\",usecols= np.r_[0:5], header=0)\n",
    "print(cpi.isnull().sum(),\"\\n\")\n",
    "print(cpi.info(),\"\\n\")\n",
    "print(cpi.shape,\"\\n\")\n",
    "print(cpi.head(5))"
   ]
  },
  {
   "cell_type": "code",
   "execution_count": 33,
   "metadata": {},
   "outputs": [
    {
     "data": {
      "image/png": "[encoded data removed]",
      "text/plain": [
       "<Figure size 720x432 with 1 Axes>"
      ]
     },
     "metadata": {
      "needs_background": "light"
     },
     "output_type": "display_data"
    }
   ],
   "source": [
    "# creating scatter plot for CPI & Inflation\n",
    "\n",
    "fig, ax = plt.subplots(figsize=(10, 6))\n",
    "\n",
    "ax.scatter(cpi.Inflation, cpi.CPI,c=cpi.CPI, cmap=\"magma\",edgecolors=\"black\")\n",
    "ax.set_xlabel(\"Inflation\")\n",
    "ax.set_ylabel(\"CPI\")\n",
    "ax.set_title(\"CPI vs Inflation\")\n",
    "\n",
    "plt.show()"
   ]
  },
  {
   "cell_type": "code",
   "execution_count": 34,
   "metadata": {},
   "outputs": [
    {
     "name": "stdout",
     "output_type": "stream",
     "text": [
      "The null hypothesis is accepted\n",
      "There is a no relationship between the variables\n",
      "Pearsons correlation=-0.042, p_value=0.617\n",
      "\n",
      "The null hypothesis is accepted\n",
      "There is a no relationship between the variables\n",
      "Spearman correlation=-0.034, p_value=0.682\n",
      "\n"
     ]
    }
   ],
   "source": [
    "# conduct Pearson Correlation Test\n",
    "\n",
    "# import relevant library\n",
    "from scipy.stats import pearsonr\n",
    "from scipy.stats import spearmanr\n",
    "\n",
    "def pearson_corr_test(cl,data1,data2):\n",
    "    a = 1 - cl\n",
    "    corr,p = pearsonr(data1, data2)\n",
    "    result = 'Pearsons correlation=%.3f, p_value=%.3f\\n' % (corr,p)\n",
    "    if p < a:\n",
    "        print('The null hypothesis is rejected')\n",
    "        print(\"There is a relationship between the variables\")\n",
    "    else:\n",
    "        print('The null hypothesis is accepted')\n",
    "        print(\"There is a no relationship between the variables\")\n",
    "    return result\n",
    "\n",
    "def spearman_corr_test(cl,data1,data2):\n",
    "    a = 1 - cl\n",
    "    rho, p = spearmanr(data1,data2)\n",
    "    result = 'Spearman correlation=%.3f, p_value=%.3f\\n' % (rho,p)\n",
    "    if p < a:\n",
    "        print('The null hypothesis is rejected')\n",
    "        print(\"There is a relationship between the variables\")\n",
    "    else:\n",
    "        print('The null hypothesis is accepted')\n",
    "        print(\"There is a no relationship between the variables\")\n",
    "    return result\n",
    "\n",
    "# test the variables\n",
    "print(pearson_corr_test(cl=0.95,data1=cpi.CPI,data2=cpi.Inflation))\n",
    "print(spearman_corr_test(cl=0.95, data1=cpi.CPI,data2=cpi.Inflation))"
   ]
  },
  {
   "attachments": {},
   "cell_type": "markdown",
   "metadata": {},
   "source": [
    "<a id='5-NBA2008'></a>\n",
    "\n",
    "#### 5 - NBA2008\n"
   ]
  },
  {
   "cell_type": "code",
   "execution_count": 35,
   "metadata": {},
   "outputs": [
    {
     "name": "stdout",
     "output_type": "stream",
     "text": [
      "Team Name                 0\n",
      "Wins                      0\n",
      "Field Goal (%)            0\n",
      "Field Goal (%) Allowed    0\n",
      "dtype: int64 \n",
      "\n",
      "<class 'pandas.core.frame.DataFrame'>\n",
      "RangeIndex: 30 entries, 0 to 29\n",
      "Data columns (total 4 columns):\n",
      " #   Column                  Non-Null Count  Dtype  \n",
      "---  ------                  --------------  -----  \n",
      " 0   Team Name               30 non-null     object \n",
      " 1   Wins                    30 non-null     int64  \n",
      " 2   Field Goal (%)          30 non-null     float64\n",
      " 3   Field Goal (%) Allowed  30 non-null     float64\n",
      "dtypes: float64(2), int64(1), object(1)\n",
      "memory usage: 1.1+ KB\n",
      "None \n",
      "\n",
      "(30, 4) \n",
      "\n",
      "             Team Name  Wins  Field Goal (%)  Field Goal (%) Allowed\n",
      "0        Atlanta Hawks    37           0.454                   0.463\n",
      "1       Boston Celtics    66           0.475                   0.419\n",
      "2    Charlotte Bobcats    32           0.452                   0.466\n",
      "3        Chicago Bulls    33           0.435                   0.453\n",
      "4  Cleveland Cavaliers    45           0.439                   0.455\n"
     ]
    }
   ],
   "source": [
    "nba = pd.read_excel(\"1_NBA2008.xlsx\",header=0)\n",
    "print(nba.isnull().sum(),\"\\n\")\n",
    "print(nba.info(),\"\\n\")\n",
    "print(nba.shape,\"\\n\")\n",
    "print(nba.head(5))"
   ]
  },
  {
   "cell_type": "code",
   "execution_count": 85,
   "metadata": {},
   "outputs": [
    {
     "name": "stdout",
     "output_type": "stream",
     "text": [
      "Overall summary                             OLS Regression Results                            \n",
      "==============================================================================\n",
      "Dep. Variable:                   0.05   R-squared:                       0.793\n",
      "Model:                            OLS   Adj. R-squared:                  0.777\n",
      "Method:                 Least Squares   F-statistic:                     51.57\n",
      "Date:                Fri, 10 Feb 2023   Prob (F-statistic):           6.00e-10\n",
      "Time:                        12:07:06   Log-Likelihood:                -97.265\n",
      "No. Observations:                  30   AIC:                             200.5\n",
      "Df Residuals:                      27   BIC:                             204.7\n",
      "Df Model:                           2                                         \n",
      "Covariance Type:            nonrobust                                         \n",
      "==========================================================================================\n",
      "                             coef    std err          t      P>|t|      [0.025      0.975]\n",
      "------------------------------------------------------------------------------------------\n",
      "const                    153.3070     62.222      2.464      0.020      25.638     280.976\n",
      "Field Goal (%)           406.7800     77.855      5.225      0.000     247.035     566.525\n",
      "Field Goal (%) Allowed  -652.4386     92.929     -7.021      0.000    -843.114    -461.763\n",
      "==============================================================================\n",
      "Omnibus:                        1.114   Durbin-Watson:                   1.954\n",
      "Prob(Omnibus):                  0.573   Jarque-Bera (JB):                0.328\n",
      "Skew:                           0.193   Prob(JB):                        0.849\n",
      "Kurtosis:                       3.336   Cond. No.                         116.\n",
      "==============================================================================\n",
      "\n",
      "Notes:\n",
      "[1] Standard Errors assume that the covariance matrix of the errors is correctly specified.\n",
      "The equation is ('y_hat =', 406.78, 'x +', 153.307, '+', -652.4386)\n",
      "The MSR is 2196.93\n",
      "The MSE is 42.6\n",
      "The RMSE is 6.526867548832288\n"
     ]
    }
   ],
   "source": [
    "# import relevant library\n",
    "from statsmodels.sandbox.regression.predstd import wls_prediction_std\n",
    "from statsmodels.tools.eval_measures import rmse\n",
    "import statsmodels.api as sm\n",
    "import math\n",
    "\n",
    "# creating regression function\n",
    "def reg(x,y,alpha):\n",
    "    x = sm.add_constant(x)\n",
    "    model = sm.OLS(y,x)\n",
    "    result = model.fit()\n",
    "    summary = result.summary(alpha)\n",
    "    equa = \"y_hat =\",round(result.params[1],4),\"x +\",round(result.params[0],4), \"+\",round(result.params[2],4)\n",
    "    msr = result.mse_model.round(2)\n",
    "    mse = result.mse_resid.round(2)\n",
    "    rmse = math.sqrt(mse)\n",
    "    return summary, equa, msr, mse, rmse\n",
    "\n",
    "summary, equa, msr, mse, rmse = reg(x=nba[[\"Field Goal (%)\",\"Field Goal (%) Allowed\"]], y=nba.Wins, alpha=0.05) \n",
    "\n",
    "print(\n",
    "    f\"Overall summary {summary}\\n\"\n",
    "    f\"The equation is {equa}\\n\"\n",
    "    f\"The MSR is {msr}\\n\"\n",
    "    f\"The MSE is {mse}\\n\"\n",
    "    f\"The RMSE is {rmse}\"\n",
    ")"
   ]
  },
  {
   "attachments": {},
   "cell_type": "markdown",
   "metadata": {},
   "source": [
    "<a id='6-MovieRevenues'></a>\n",
    "\n",
    "#### 6 - Movie Revenues\n"
   ]
  },
  {
   "cell_type": "code",
   "execution_count": 58,
   "metadata": {},
   "outputs": [
    {
     "name": "stdout",
     "output_type": "stream",
     "text": [
      "Year                    0\n",
      "Revenues ($billions)    0\n",
      "dtype: int64 \n",
      "\n",
      "<class 'pandas.core.frame.DataFrame'>\n",
      "RangeIndex: 26 entries, 0 to 25\n",
      "Data columns (total 2 columns):\n",
      " #   Column                Non-Null Count  Dtype  \n",
      "---  ------                --------------  -----  \n",
      " 0   Year                  26 non-null     int64  \n",
      " 1   Revenues ($billions)  26 non-null     float64\n",
      "dtypes: float64(1), int64(1)\n",
      "memory usage: 544.0 bytes\n",
      "None \n",
      "\n",
      "(26, 2) \n",
      "\n",
      "   Year  Revenues ($billions)\n",
      "0  1995                  5.29\n",
      "1  1996                  5.59\n",
      "2  1997                  6.51\n",
      "3  1998                  6.78\n",
      "4  1999                  7.30\n"
     ]
    }
   ],
   "source": [
    "mr = pd.read_excel(\"1_Movie Revenues.xlsx\",header=0)\n",
    "print(mr.isnull().sum(),\"\\n\")\n",
    "print(mr.info(),\"\\n\")\n",
    "print(mr.shape,\"\\n\")\n",
    "print(mr.head(5))"
   ]
  },
  {
   "cell_type": "code",
   "execution_count": 63,
   "metadata": {},
   "outputs": [
    {
     "data": {
      "text/plain": [
       "0   1995-01-01\n",
       "1   1996-01-01\n",
       "2   1997-01-01\n",
       "3   1998-01-01\n",
       "4   1999-01-01\n",
       "Name: Year, dtype: datetime64[ns]"
      ]
     },
     "execution_count": 63,
     "metadata": {},
     "output_type": "execute_result"
    }
   ],
   "source": [
    "mr[\"Year\"] = pd.to_datetime(mr['Year'], format='%Y')\n",
    "mr.Year.head(5)"
   ]
  },
  {
   "cell_type": "code",
   "execution_count": 74,
   "metadata": {},
   "outputs": [
    {
     "data": {
      "image/png": "[encoded data removed]",
      "text/plain": [
       "<Figure size 432x288 with 1 Axes>"
      ]
     },
     "metadata": {},
     "output_type": "display_data"
    }
   ],
   "source": [
    "plt.plot(mr.Year, mr[\"Revenues ($billions)\"])\n",
    "plt.ylabel('Revenues ($billions)')\n",
    "plt.xlabel('Year')\n",
    "plt.xticks(rotation=45)\n",
    "plt.show()"
   ]
  },
  {
   "cell_type": "code",
   "execution_count": 61,
   "metadata": {},
   "outputs": [
    {
     "data": {
      "text/plain": [
       "<AxesSubplot:>"
      ]
     },
     "execution_count": 61,
     "metadata": {},
     "output_type": "execute_result"
    },
    {
     "data": {
      "image/png": "[encoded data removed]",
      "text/plain": [
       "<Figure size 1152x576 with 1 Axes>"
      ]
     },
     "metadata": {},
     "output_type": "display_data"
    }
   ],
   "source": [
    "# performing moving average with lag 2 period time series analysis \n",
    "\n",
    "mr[\"MA_2\"] = mr[\"Revenues ($billions)\"].rolling(2).mean()\n",
    "\n",
    "mr[['Revenues ($billions)', 'MA_2']].plot(label='mr',figsize=(16, 8))"
   ]
  },
  {
   "cell_type": "code",
   "execution_count": 62,
   "metadata": {},
   "outputs": [
    {
     "name": "stderr",
     "output_type": "stream",
     "text": [
      "c:\\Users\\asus\\anaconda3\\lib\\site-packages\\statsmodels\\tsa\\holtwinters\\model.py:427: FutureWarning: After 0.13 initialization must be handled at model creation\n",
      "  warnings.warn(\n"
     ]
    },
    {
     "data": {
      "text/plain": [
       "<AxesSubplot:>"
      ]
     },
     "execution_count": 62,
     "metadata": {},
     "output_type": "execute_result"
    },
    {
     "data": {
      "image/png": "[encoded data removed]",
      "text/plain": [
       "<Figure size 648x432 with 1 Axes>"
      ]
     },
     "metadata": {},
     "output_type": "display_data"
    }
   ],
   "source": [
    "# perform exponential smoothing with alpha 0.3\n",
    "\n",
    "# import library\n",
    "from statsmodels.tsa.holtwinters import ExponentialSmoothing\n",
    "\n",
    "# create the model\n",
    "model = ExponentialSmoothing(endog=mr[\"Revenues ($billions)\"]).fit()\n",
    "predictions = model.forecast(steps = 31)\n",
    "\n",
    "mr[\"Revenues ($billions)\"].plot(figsize=(9,6))\n",
    "predictions.plot()"
   ]
  },
  {
   "attachments": {},
   "cell_type": "markdown",
   "metadata": {},
   "source": [
    "<a id='7-LinkedInMembers'></a>\n",
    "\n",
    "#### 7 - LinkedIn Members\n"
   ]
  },
  {
   "cell_type": "code",
   "execution_count": 75,
   "metadata": {},
   "outputs": [
    {
     "name": "stdout",
     "output_type": "stream",
     "text": [
      "Quarter    0\n",
      "Year       0\n",
      "Members    0\n",
      "dtype: int64 \n",
      "\n",
      "<class 'pandas.core.frame.DataFrame'>\n",
      "RangeIndex: 22 entries, 0 to 21\n",
      "Data columns (total 3 columns):\n",
      " #   Column   Non-Null Count  Dtype  \n",
      "---  ------   --------------  -----  \n",
      " 0   Quarter  22 non-null     int64  \n",
      " 1   Year     22 non-null     int64  \n",
      " 2   Members  22 non-null     float64\n",
      "dtypes: float64(1), int64(2)\n",
      "memory usage: 656.0 bytes\n",
      "None \n",
      "\n",
      "(22, 3) \n",
      "\n",
      "   Quarter  Year  Members\n",
      "0        1  2009     37.3\n",
      "1        2  2009     42.0\n",
      "2        3  2009     48.0\n",
      "3        4  2009     55.1\n",
      "4        1  2010     64.2\n"
     ]
    }
   ],
   "source": [
    "lim = pd.read_excel(\"1_LinkedIn Members.xlsx\",header=0)\n",
    "print(lim.isnull().sum(),\"\\n\")\n",
    "print(lim.info(),\"\\n\")\n",
    "print(lim.shape,\"\\n\")\n",
    "print(lim.head(5))"
   ]
  },
  {
   "cell_type": "code",
   "execution_count": 76,
   "metadata": {},
   "outputs": [
    {
     "data": {
      "image/png": "[encoded data removed]",
      "text/plain": [
       "<Figure size 432x288 with 1 Axes>"
      ]
     },
     "metadata": {},
     "output_type": "display_data"
    }
   ],
   "source": [
    "plt.plot(lim.Year,lim.Members)\n",
    "plt.show()"
   ]
  },
  {
   "cell_type": "code",
   "execution_count": 78,
   "metadata": {},
   "outputs": [
    {
     "data": {
      "text/html": [
       "<style  type=\"text/css\" >\n",
       "#T_7e38e_row0_col0,#T_7e38e_row1_col1,#T_7e38e_row2_col2{\n",
       "            background-color:  #b40426;\n",
       "            color:  #f1f1f1;\n",
       "        }#T_7e38e_row0_col1,#T_7e38e_row0_col2,#T_7e38e_row1_col0{\n",
       "            background-color:  #3b4cc0;\n",
       "            color:  #f1f1f1;\n",
       "        }#T_7e38e_row1_col2{\n",
       "            background-color:  #bb1b2c;\n",
       "            color:  #f1f1f1;\n",
       "        }#T_7e38e_row2_col0{\n",
       "            background-color:  #6282ea;\n",
       "            color:  #000000;\n",
       "        }#T_7e38e_row2_col1{\n",
       "            background-color:  #ba162b;\n",
       "            color:  #f1f1f1;\n",
       "        }</style><table id=\"T_7e38e_\" ><thead>    <tr>        <th class=\"blank level0\" ></th>        <th class=\"col_heading level0 col0\" >Quarter</th>        <th class=\"col_heading level0 col1\" >Year</th>        <th class=\"col_heading level0 col2\" >Members</th>    </tr></thead><tbody>\n",
       "                <tr>\n",
       "                        <th id=\"T_7e38e_level0_row0\" class=\"row_heading level0 row0\" >Quarter</th>\n",
       "                        <td id=\"T_7e38e_row0_col0\" class=\"data row0 col0\" >1.000000</td>\n",
       "                        <td id=\"T_7e38e_row0_col1\" class=\"data row0 col1\" >-0.139006</td>\n",
       "                        <td id=\"T_7e38e_row0_col2\" class=\"data row0 col2\" >0.006029</td>\n",
       "            </tr>\n",
       "            <tr>\n",
       "                        <th id=\"T_7e38e_level0_row1\" class=\"row_heading level0 row1\" >Year</th>\n",
       "                        <td id=\"T_7e38e_row1_col0\" class=\"data row1 col0\" >-0.139006</td>\n",
       "                        <td id=\"T_7e38e_row1_col1\" class=\"data row1 col1\" >1.000000</td>\n",
       "                        <td id=\"T_7e38e_row1_col2\" class=\"data row1 col2\" >0.978240</td>\n",
       "            </tr>\n",
       "            <tr>\n",
       "                        <th id=\"T_7e38e_level0_row2\" class=\"row_heading level0 row2\" >Members</th>\n",
       "                        <td id=\"T_7e38e_row2_col0\" class=\"data row2 col0\" >0.006029</td>\n",
       "                        <td id=\"T_7e38e_row2_col1\" class=\"data row2 col1\" >0.978240</td>\n",
       "                        <td id=\"T_7e38e_row2_col2\" class=\"data row2 col2\" >1.000000</td>\n",
       "            </tr>\n",
       "    </tbody></table>"
      ],
      "text/plain": [
       "<pandas.io.formats.style.Styler at 0x214ba599d00>"
      ]
     },
     "execution_count": 78,
     "metadata": {},
     "output_type": "execute_result"
    }
   ],
   "source": [
    "lim.corr(method='pearson').style.background_gradient(cmap='coolwarm')"
   ]
  },
  {
   "cell_type": "code",
   "execution_count": 79,
   "metadata": {},
   "outputs": [
    {
     "data": {
      "text/html": [
       "<style  type=\"text/css\" >\n",
       "#T_a46d9_row0_col0,#T_a46d9_row1_col1,#T_a46d9_row2_col2{\n",
       "            background-color:  #b40426;\n",
       "            color:  #f1f1f1;\n",
       "        }#T_a46d9_row0_col1,#T_a46d9_row0_col2,#T_a46d9_row1_col0{\n",
       "            background-color:  #3b4cc0;\n",
       "            color:  #f1f1f1;\n",
       "        }#T_a46d9_row1_col2,#T_a46d9_row2_col1{\n",
       "            background-color:  #b8122a;\n",
       "            color:  #f1f1f1;\n",
       "        }#T_a46d9_row2_col0{\n",
       "            background-color:  #688aef;\n",
       "            color:  #000000;\n",
       "        }</style><table id=\"T_a46d9_\" ><thead>    <tr>        <th class=\"blank level0\" ></th>        <th class=\"col_heading level0 col0\" >Quarter</th>        <th class=\"col_heading level0 col1\" >Year</th>        <th class=\"col_heading level0 col2\" >Members</th>    </tr></thead><tbody>\n",
       "                <tr>\n",
       "                        <th id=\"T_a46d9_level0_row0\" class=\"row_heading level0 row0\" >Quarter</th>\n",
       "                        <td id=\"T_a46d9_row0_col0\" class=\"data row0 col0\" >1.000000</td>\n",
       "                        <td id=\"T_a46d9_row0_col1\" class=\"data row0 col1\" >-0.130159</td>\n",
       "                        <td id=\"T_a46d9_row0_col2\" class=\"data row0 col2\" >0.035566</td>\n",
       "            </tr>\n",
       "            <tr>\n",
       "                        <th id=\"T_a46d9_level0_row1\" class=\"row_heading level0 row1\" >Year</th>\n",
       "                        <td id=\"T_a46d9_row1_col0\" class=\"data row1 col0\" >-0.130159</td>\n",
       "                        <td id=\"T_a46d9_row1_col1\" class=\"data row1 col1\" >1.000000</td>\n",
       "                        <td id=\"T_a46d9_row1_col2\" class=\"data row1 col2\" >0.985496</td>\n",
       "            </tr>\n",
       "            <tr>\n",
       "                        <th id=\"T_a46d9_level0_row2\" class=\"row_heading level0 row2\" >Members</th>\n",
       "                        <td id=\"T_a46d9_row2_col0\" class=\"data row2 col0\" >0.035566</td>\n",
       "                        <td id=\"T_a46d9_row2_col1\" class=\"data row2 col1\" >0.985496</td>\n",
       "                        <td id=\"T_a46d9_row2_col2\" class=\"data row2 col2\" >1.000000</td>\n",
       "            </tr>\n",
       "    </tbody></table>"
      ],
      "text/plain": [
       "<pandas.io.formats.style.Styler at 0x214ba500310>"
      ]
     },
     "execution_count": 79,
     "metadata": {},
     "output_type": "execute_result"
    }
   ],
   "source": [
    "lim.corr(method='spearman').style.background_gradient(cmap='coolwarm')"
   ]
  },
  {
   "cell_type": "code",
   "execution_count": 84,
   "metadata": {},
   "outputs": [
    {
     "name": "stdout",
     "output_type": "stream",
     "text": [
      "The null hypothesis is rejected\n",
      "There is a relationship between the variables\n",
      "Year & Member Pearsons correlation=0.978, p_value=0.000\n",
      "\n",
      "The null hypothesis is rejected\n",
      "There is a relationship between the variables\n",
      "Year & Member Spearman correlation=0.985, p_value=0.000\n",
      "\n",
      "The null hypothesis is accepted\n",
      "There is a no relationship between the variables\n",
      "Year & Quarter Pearsons correlation=0.006, p_value=0.979\n",
      "\n",
      "The null hypothesis is accepted\n",
      "There is a no relationship between the variables\n",
      "Year & Quarter Spearman correlation=0.036, p_value=0.875\n",
      "\n"
     ]
    }
   ],
   "source": [
    "print(\"Year & Member\", pearson_corr_test(0.95,lim.Year,lim.Members))\n",
    "print(\"Year & Member\",spearman_corr_test(0.95,lim.Year,lim.Members))\n",
    "print(\"Year & Quarter\", pearson_corr_test(0.95,lim.Quarter,lim.Members))\n",
    "print(\"Year & Quarter\",spearman_corr_test(0.95,lim.Quarter,lim.Members))"
   ]
  }
 ],
 "metadata": {
  "kernelspec": {
   "display_name": "base",
   "language": "python",
   "name": "python3"
  },
  "language_info": {
   "codemirror_mode": {
    "name": "ipython",
    "version": 3
   },
   "file_extension": ".py",
   "mimetype": "text/x-python",
   "name": "python",
   "nbconvert_exporter": "python",
   "pygments_lexer": "ipython3",
   "version": "3.8.8"
  },
  "orig_nbformat": 4,
  "vscode": {
   "interpreter": {
    "hash": "9c1d5a056f04d97314a9f946bc8c5185004572d3d68312220c0ba298420421f7"
   }
  }
 },
 "nbformat": 4,
 "nbformat_minor": 2
}
