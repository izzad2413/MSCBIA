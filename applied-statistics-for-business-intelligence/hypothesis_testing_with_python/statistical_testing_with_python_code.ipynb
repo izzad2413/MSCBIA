{
 "cells": [
  {
   "attachments": {},
   "cell_type": "markdown",
   "metadata": {},
   "source": [
    "## Statistical Testing with Python code"
   ]
  },
  {
   "attachments": {},
   "cell_type": "markdown",
   "metadata": {},
   "source": [
    "### Contents\n",
    "\n",
    "- <a href='#testdataset'>Test Dataset</a>\n",
    "- <a href='#normalitytesting'>Normality Testing</a>\n",
    "    - <a href='#numerical'>Numerical</a>\n",
    "        - <a href='#kalmogorov'>Kalmogorov</a>\n",
    "        - <a href='#shapiro'>Shapiro</a>\n",
    "    - <a href='#visual'>Visual</a>\n",
    "- <a href='#parametrictest'>Parametric Test</a>\n",
    "    - <a href='#onettest'>One T-Test</a>\n",
    "    - <a href='#twoindependentttest'>Two Independent T-Test</a>\n",
    "    - <a href='#twodependentpairedttest'>Two Dependent Paired T-Test</a>\n",
    "- <a href='#nonparametrictest'>Non-Parametric Test</a>\n",
    "    - <a href='#quantitative'>Quantitative</a>\n",
    "        - <a href='#oneandpairedsigntest'>One & Paired - Sign Test</a>\n",
    "        - <a href='#oneandpairedwilcoxonsignranktest'>One & Paired - Wilcoxon Sign Rank Test</a>\n",
    "        - <a href='#twoindependentmediantest'>Two Independent - Median Test</a>\n",
    "        - <a href='#twoindependentmannwhitney'>Two Independent - Mann-Whitney</a>\n",
    "    - <a href='#qualitative'>Qualitative</a>\n",
    "        - <a href='#nominalbinomialtest'>Nominal - Binomial Test</a>\n",
    "        - <a href='#ordinalchisquaretest'>Ordinal - Chi Square Test</a>\n",
    "- <a href='#correlationtesting'>Correlation Testing</a>\n",
    "    - <a href='#cnumerical'>Numerical</a>\n",
    "        - <a href='#pearson'>Pearson Correlation Coefficient</a>\n",
    "        - <a href='#spearman'>Spearman Correlation Coefficient</a>\n",
    "    - <a href='#cvisual'>Visual</a>"
   ]
  },
  {
   "attachments": {},
   "cell_type": "markdown",
   "metadata": {},
   "source": [
    "<a id='testdataset'></a>\n",
    "\n",
    "### Test Dataset"
   ]
  },
  {
   "cell_type": "code",
   "execution_count": 7,
   "metadata": {},
   "outputs": [
    {
     "name": "stdout",
     "output_type": "stream",
     "text": [
      "Date                          0\n",
      "State                         0\n",
      "Product                       0\n",
      "Total Amount (RM)             0\n",
      "Discount Received (RM)        0\n",
      "Amount After Discount (RM)    0\n",
      "dtype: int64 \n",
      "\n",
      "<class 'pandas.core.frame.DataFrame'>\n",
      "RangeIndex: 299 entries, 0 to 298\n",
      "Data columns (total 6 columns):\n",
      " #   Column                      Non-Null Count  Dtype         \n",
      "---  ------                      --------------  -----         \n",
      " 0   Date                        299 non-null    datetime64[ns]\n",
      " 1   State                       299 non-null    object        \n",
      " 2   Product                     299 non-null    object        \n",
      " 3   Total Amount (RM)           299 non-null    int64         \n",
      " 4   Discount Received (RM)      299 non-null    int64         \n",
      " 5   Amount After Discount (RM)  299 non-null    int64         \n",
      "dtypes: datetime64[ns](1), int64(3), object(2)\n",
      "memory usage: 14.1+ KB\n",
      "None \n",
      "\n",
      "(299, 6) \n",
      "\n",
      "        Date            State               Product  Total Amount (RM)  \\\n",
      "0 2009-01-01  Negeri Sembilan                 Shoes               1772   \n",
      "1 2009-01-02         Kelantan         Food & Drinks               1527   \n",
      "2 2009-01-03           Pahang  Household Appliances               2371   \n",
      "3 2009-01-04     Kuala Lumpur             Cosmetic                3299   \n",
      "4 2009-01-05     Kuala Lumpur           Electronics               2055   \n",
      "\n",
      "   Discount Received (RM)  Amount After Discount (RM)  \n",
      "0                      25                        1747  \n",
      "1                      15                        1512  \n",
      "2                      15                        2356  \n",
      "3                       0                        3299  \n",
      "4                       0                        2055  \n"
     ]
    }
   ],
   "source": [
    "# import relevant library\n",
    "import pandas as pd\n",
    "import numpy as np\n",
    "\n",
    "df = pd.read_excel(\"testdataset.xlsx\", usecols=np.r_[0:6], header=0)\n",
    "print(df.isnull().sum(),\"\\n\")\n",
    "print(df.info(),\"\\n\")\n",
    "print(df.shape,\"\\n\")\n",
    "print(df.head(5))"
   ]
  },
  {
   "attachments": {},
   "cell_type": "markdown",
   "metadata": {},
   "source": [
    "<a id='normalitytesting'></a>\n",
    "\n",
    "### Normality Testing"
   ]
  },
  {
   "attachments": {},
   "cell_type": "markdown",
   "metadata": {},
   "source": [
    "<a id='numerical'></a>\n",
    "\n",
    "#### Numerical\n"
   ]
  },
  {
   "attachments": {},
   "cell_type": "markdown",
   "metadata": {},
   "source": [
    "<a id='kalmogorov'></a>\n",
    "\n",
    "##### Kalmogorov"
   ]
  },
  {
   "cell_type": "code",
   "execution_count": 27,
   "metadata": {},
   "outputs": [],
   "source": [
    "# import relevant library\n",
    "import scipy.stats\n",
    "from scipy.stats import norm\n",
    "from scipy.stats import kstest   \n",
    "\n",
    "# if observation is more or equal than 50, proceed with Kalmogorov Test\n",
    "def kalmogorov_test(cl,data):\n",
    "    a = 1 - cl\n",
    "    loc, scale = norm.fit(data) \n",
    "    n = norm(loc=loc, scale=scale)    \n",
    "    stats,p=scipy.stats.kstest(data, n.cdf)  \n",
    "    result = 'Kalmogorov Statistics=%.3f, p_value=%.3f\\n' % (stats, p)\n",
    "    if p < a:\n",
    "        print('The null hypothesis is rejected') \n",
    "        print('Data is NOT NORMALLY distributed') \n",
    "    else: \n",
    "        print('The null hypothesis is accepted') \n",
    "        print('Data is NORMALLY distributed')\n",
    "    return result"
   ]
  },
  {
   "attachments": {},
   "cell_type": "markdown",
   "metadata": {},
   "source": [
    "<a id='shapiro'></a>\n",
    "\n",
    "##### Shapiro"
   ]
  },
  {
   "cell_type": "code",
   "execution_count": null,
   "metadata": {},
   "outputs": [],
   "source": [
    "# if observation is less than 50, proceed with Shapiro Wilk Test\n",
    "def shapiro_test(cl,data):\n",
    "    a = 1 - cl\n",
    "    stats, p = scipy.stats.shapiro(data)\n",
    "    result = 'Shapiro Statistics=%.3f, p_value=%.3f\\n' % (stats, p)\n",
    "    if p < a:\n",
    "        print('The null hypothesis is rejected') \n",
    "        print('Data is NOT NORMALLY distributed') \n",
    "    else: \n",
    "        print('The null hypothesis is accepted') \n",
    "        print('Data is NORMALLY distributed')\n",
    "    return result"
   ]
  },
  {
   "attachments": {},
   "cell_type": "markdown",
   "metadata": {},
   "source": [
    "<a id='Visual'></a>\n",
    "\n",
    "#### Visual\n"
   ]
  },
  {
   "cell_type": "code",
   "execution_count": 12,
   "metadata": {},
   "outputs": [
    {
     "name": "stdout",
     "output_type": "stream",
     "text": [
      "This is single variable\n"
     ]
    },
    {
     "data": {
      "image/png": "[encoded data removed]",
      "text/plain": [
       "<Figure size 432x288 with 1 Axes>"
      ]
     },
     "metadata": {
      "needs_background": "light"
     },
     "output_type": "display_data"
    },
    {
     "name": "stdout",
     "output_type": "stream",
     "text": [
      "This is multiple variables\n"
     ]
    },
    {
     "data": {
      "image/png": "[encoded data removed]",
      "text/plain": [
       "<Figure size 720x288 with 3 Axes>"
      ]
     },
     "metadata": {
      "needs_background": "light"
     },
     "output_type": "display_data"
    }
   ],
   "source": [
    "# import relevant library\n",
    "from statsmodels.graphics.gofplots import qqplot\n",
    "import matplotlib.pyplot as plt\n",
    "\n",
    "# test for single variable\n",
    "qqplot(df['Amount After Discount (RM)'], line='s')\n",
    "print(\"This is single variable\")\n",
    "plt.show()\n",
    "\n",
    "# test for multiple variables at once\n",
    "fig, (ax1, ax2, ax3) = plt.subplots(ncols=3, figsize=(10,4))\n",
    "\n",
    "qqplot(df[\"Total Amount (RM)\"], line='s', ax=ax1)\n",
    "qqplot(df[\"Discount Received (RM)\"], line='s', ax=ax2)\n",
    "qqplot(df[\"Amount After Discount (RM)\"], line='s', ax=ax3)\n",
    "ax1.set_title(\"Total Amount (RM)\")\n",
    "ax2.set_title(\"Discount Received (RM)\")\n",
    "ax3.set_title(\"Amount After Discount (RM)\")\n",
    "print(\"This is multiple variables\")\n",
    "plt.show()"
   ]
  },
  {
   "attachments": {},
   "cell_type": "markdown",
   "metadata": {},
   "source": [
    "<a id='parametrictest'></a>\n",
    "\n",
    "### Parametric Test\n"
   ]
  },
  {
   "attachments": {},
   "cell_type": "markdown",
   "metadata": {},
   "source": [
    "<a id='onettest'></a>\n",
    "\n",
    "#### One T-Test"
   ]
  },
  {
   "attachments": {},
   "cell_type": "markdown",
   "metadata": {},
   "source": [
    "<a id='twoindependentttest'></a>\n",
    "\n",
    "#### Two Independent T-Test"
   ]
  },
  {
   "attachments": {},
   "cell_type": "markdown",
   "metadata": {},
   "source": [
    "<a id='twodependentpairedttest'></a>\n",
    "\n",
    "#### Two Dependent Paired T-Test"
   ]
  },
  {
   "attachments": {},
   "cell_type": "markdown",
   "metadata": {},
   "source": [
    "<a id='nonparametrictest'></a>\n",
    "\n",
    "### Non-Parametric Test\n"
   ]
  },
  {
   "attachments": {},
   "cell_type": "markdown",
   "metadata": {},
   "source": [
    "<a id='quantitative'></a>\n",
    "\n",
    "#### Quantitative\n"
   ]
  },
  {
   "attachments": {},
   "cell_type": "markdown",
   "metadata": {},
   "source": [
    "<a id='oneandpairedsigntest'></a>\n",
    "\n",
    "##### One & Paired - Sign Test\n"
   ]
  },
  {
   "cell_type": "code",
   "execution_count": 19,
   "metadata": {},
   "outputs": [],
   "source": [
    "# import relevant library\n",
    "import statsmodels\n",
    "from statsmodels.stats.descriptivestats import sign_test\n",
    "\n",
    "def signtest()"
   ]
  },
  {
   "attachments": {},
   "cell_type": "markdown",
   "metadata": {},
   "source": [
    "<a id='oneandpairedwilcoxonsignranktest'></a>\n",
    "\n",
    "##### One & Paired - Wilcoxon Sign Rank Test\n"
   ]
  },
  {
   "cell_type": "code",
   "execution_count": 46,
   "metadata": {},
   "outputs": [],
   "source": [
    "# import relevant library\n",
    "from scipy.stats import wilcoxon\n",
    "\n",
    "# creating the function\n",
    "def wilcoxon(cl,data):\n",
    "    a = 1 - cl\n",
    "    stats, p = scipy.stats.wilcoxon(data)\n",
    "    result = 'Wilcoxon Statistics=%.3f, p_value=%.3f\\n' % (stats, p)\n",
    "    if p < a:\n",
    "        print('The null hypothesis is rejected') \n",
    "        print('Data is NOT NORMALLY distributed') \n",
    "    else: \n",
    "        print('The null hypothesis is accepted') \n",
    "        print('Data is NORMALLY distributed')\n",
    "    return result"
   ]
  },
  {
   "attachments": {},
   "cell_type": "markdown",
   "metadata": {},
   "source": [
    "<a id='twoindependentmediantest'></a>\n",
    "\n",
    "##### Two Independent - Median Test\n"
   ]
  },
  {
   "cell_type": "code",
   "execution_count": null,
   "metadata": {},
   "outputs": [],
   "source": []
  },
  {
   "attachments": {},
   "cell_type": "markdown",
   "metadata": {},
   "source": [
    "<a id='twoindependentmannwhitney'></a>\n",
    "\n",
    "##### Two Independent - Mann-Whitney\n"
   ]
  },
  {
   "cell_type": "code",
   "execution_count": null,
   "metadata": {},
   "outputs": [],
   "source": [
    "# import relevant library\n",
    "from scipy.stats import mannwhitneyu\n",
    "\n",
    "# creating the function\n",
    "def mwt_test(cl,x1,x2):\n",
    "    a = 1 - cl\n",
    "    stats, p = scipy.stats.mannwhitneyu(x1,x2)\n",
    "    result = 'Mann-Whitney Statistics=%.3f, p_value=%.3f\\n' % (stats, p)\n",
    "    if p < a:\n",
    "        print('The null hypothesis is rejected as P-value is less than α') \n",
    "    else: \n",
    "        print('The null hypothesis is accepted as P-value is more than α') \n",
    "    return result"
   ]
  },
  {
   "attachments": {},
   "cell_type": "markdown",
   "metadata": {},
   "source": [
    "<a id='qualitative'></a>\n",
    "\n",
    "#### Qualitative\n"
   ]
  },
  {
   "attachments": {},
   "cell_type": "markdown",
   "metadata": {},
   "source": [
    "<a id='nominalbinomialtest'></a>\n",
    "\n",
    "##### Nominal - Binomial Test\n"
   ]
  },
  {
   "cell_type": "code",
   "execution_count": 37,
   "metadata": {},
   "outputs": [],
   "source": [
    "# import relevant library\n",
    "from scipy import stats\n",
    "from scipy.stats import binom_test\n",
    "\n",
    "# creating the function\n",
    "def binomtest(cl,test_value,total,claim_value,alt):\n",
    "    a = 1 - cl\n",
    "    p = stats.binom_test(test_value,total,claim_value,alternative=alt)\n",
    "    result = 'Binomial Test p_value=%.3f\\n' % p\n",
    "    if p < cl:\n",
    "        print('The null hypothesis is rejected as P-value is less than α')  \n",
    "    else: \n",
    "        print('The null hypothesis is accepted as P-value is more than α') \n",
    "    return result"
   ]
  },
  {
   "attachments": {},
   "cell_type": "markdown",
   "metadata": {},
   "source": [
    "<a id='ordinalchisquaretest'></a>\n",
    "\n",
    "##### Ordinal - Chi Square Test\n"
   ]
  },
  {
   "cell_type": "code",
   "execution_count": 39,
   "metadata": {},
   "outputs": [],
   "source": [
    "# import stats library\n",
    "from scipy.stats import chisquare\n",
    "\n",
    "# creating the function\n",
    "def chisquare_test(cl,data):\n",
    "    cl = 1 - cl\n",
    "    stats, p = chisquare(data)\n",
    "    result = 'Chisquare Statistics =%.3f, p_value=%.3f\\n' % (stats, p)\n",
    "    if p < cl:\n",
    "        print('The null hypothesis is rejected as P-value is less than α')  \n",
    "    else: \n",
    "        print('The null hypothesis is accepted as P-value is more than α') \n",
    "    return result"
   ]
  },
  {
   "attachments": {},
   "cell_type": "markdown",
   "metadata": {},
   "source": [
    "<a id='correlationtesting'></a>\n",
    "\n",
    "### Correlation Testing\n"
   ]
  },
  {
   "attachments": {},
   "cell_type": "markdown",
   "metadata": {},
   "source": [
    "<a id='cnumerical'></a>\n",
    "\n",
    "#### Numerical\n"
   ]
  },
  {
   "attachments": {},
   "cell_type": "markdown",
   "metadata": {},
   "source": [
    "<a id='pearson'></a>\n",
    "\n",
    "#### Pearson Correlation Coefficient\n"
   ]
  },
  {
   "cell_type": "code",
   "execution_count": null,
   "metadata": {},
   "outputs": [],
   "source": [
    "# import relevant library\n",
    "from scipy.stats import pearsonr\n",
    "\n",
    "# creating the function\n",
    "def pearson_corr_test(cl,data1,data2):\n",
    "    a = 1 - cl\n",
    "    corr,p = pearsonr(data1, data2)\n",
    "    result = 'Pearsons correlation=%.3f, p_value=%.3f\\n' % (corr,p)\n",
    "    if p < a:\n",
    "        print('The null hypothesis is rejected')\n",
    "        print(\"There is a relationship between the variables\")\n",
    "    else:\n",
    "        print('The null hypothesis is accepted')\n",
    "        print(\"There is a no relationship between the variables\")\n",
    "    return result"
   ]
  },
  {
   "attachments": {},
   "cell_type": "markdown",
   "metadata": {},
   "source": [
    "<a id='spearman'></a>\n",
    "\n",
    "#### Spearman Correlation Coefficient"
   ]
  },
  {
   "cell_type": "code",
   "execution_count": null,
   "metadata": {},
   "outputs": [],
   "source": [
    "# import relevant library\n",
    "from scipy.stats import spearmanr\n",
    "\n",
    "# creating the function\n",
    "def spearman_corr_test(cl,data1,data2):\n",
    "    a = 1 - cl\n",
    "    rho, p = spearmanr(data1,data2)\n",
    "    result = 'Spearman correlation=%.3f, p_value=%.3f\\n' % (rho,p)\n",
    "    if p < a:\n",
    "        print('The null hypothesis is rejected')\n",
    "        print(\"There is a relationship between the variables\")\n",
    "    else:\n",
    "        print('The null hypothesis is accepted')\n",
    "        print(\"There is a no relationship between the variables\")\n",
    "    return result"
   ]
  },
  {
   "attachments": {},
   "cell_type": "markdown",
   "metadata": {},
   "source": [
    "<a id='cvisual'></a>\n",
    "\n",
    "#### Visual\n"
   ]
  },
  {
   "cell_type": "code",
   "execution_count": 41,
   "metadata": {},
   "outputs": [
    {
     "data": {
      "text/html": [
       "<style  type=\"text/css\" >\n",
       "#T_42ade_row0_col0,#T_42ade_row0_col2,#T_42ade_row1_col1,#T_42ade_row2_col0,#T_42ade_row2_col2{\n",
       "            background-color:  #b40426;\n",
       "            color:  #f1f1f1;\n",
       "        }#T_42ade_row0_col1{\n",
       "            background-color:  #3c4ec2;\n",
       "            color:  #f1f1f1;\n",
       "        }#T_42ade_row1_col0,#T_42ade_row1_col2,#T_42ade_row2_col1{\n",
       "            background-color:  #3b4cc0;\n",
       "            color:  #f1f1f1;\n",
       "        }</style><table id=\"T_42ade_\" ><thead>    <tr>        <th class=\"blank level0\" ></th>        <th class=\"col_heading level0 col0\" >Total Amount (RM)</th>        <th class=\"col_heading level0 col1\" >Discount Received (RM)</th>        <th class=\"col_heading level0 col2\" >Amount After Discount (RM)</th>    </tr></thead><tbody>\n",
       "                <tr>\n",
       "                        <th id=\"T_42ade_level0_row0\" class=\"row_heading level0 row0\" >Total Amount (RM)</th>\n",
       "                        <td id=\"T_42ade_row0_col0\" class=\"data row0 col0\" >1.000000</td>\n",
       "                        <td id=\"T_42ade_row0_col1\" class=\"data row0 col1\" >0.032521</td>\n",
       "                        <td id=\"T_42ade_row0_col2\" class=\"data row0 col2\" >0.999973</td>\n",
       "            </tr>\n",
       "            <tr>\n",
       "                        <th id=\"T_42ade_level0_row1\" class=\"row_heading level0 row1\" >Discount Received (RM)</th>\n",
       "                        <td id=\"T_42ade_row1_col0\" class=\"data row1 col0\" >0.032521</td>\n",
       "                        <td id=\"T_42ade_row1_col1\" class=\"data row1 col1\" >1.000000</td>\n",
       "                        <td id=\"T_42ade_row1_col2\" class=\"data row1 col2\" >0.025243</td>\n",
       "            </tr>\n",
       "            <tr>\n",
       "                        <th id=\"T_42ade_level0_row2\" class=\"row_heading level0 row2\" >Amount After Discount (RM)</th>\n",
       "                        <td id=\"T_42ade_row2_col0\" class=\"data row2 col0\" >0.999973</td>\n",
       "                        <td id=\"T_42ade_row2_col1\" class=\"data row2 col1\" >0.025243</td>\n",
       "                        <td id=\"T_42ade_row2_col2\" class=\"data row2 col2\" >1.000000</td>\n",
       "            </tr>\n",
       "    </tbody></table>"
      ],
      "text/plain": [
       "<pandas.io.formats.style.Styler at 0x13978295d60>"
      ]
     },
     "execution_count": 41,
     "metadata": {},
     "output_type": "execute_result"
    }
   ],
   "source": [
    "df.corr(method='pearson').style.background_gradient(cmap='coolwarm')"
   ]
  },
  {
   "cell_type": "code",
   "execution_count": 42,
   "metadata": {},
   "outputs": [
    {
     "data": {
      "text/html": [
       "<style  type=\"text/css\" >\n",
       "#T_265f9_row0_col0,#T_265f9_row0_col2,#T_265f9_row1_col1,#T_265f9_row2_col0,#T_265f9_row2_col2{\n",
       "            background-color:  #b40426;\n",
       "            color:  #f1f1f1;\n",
       "        }#T_265f9_row0_col1{\n",
       "            background-color:  #3c4ec2;\n",
       "            color:  #f1f1f1;\n",
       "        }#T_265f9_row1_col0,#T_265f9_row1_col2,#T_265f9_row2_col1{\n",
       "            background-color:  #3b4cc0;\n",
       "            color:  #f1f1f1;\n",
       "        }</style><table id=\"T_265f9_\" ><thead>    <tr>        <th class=\"blank level0\" ></th>        <th class=\"col_heading level0 col0\" >Total Amount (RM)</th>        <th class=\"col_heading level0 col1\" >Discount Received (RM)</th>        <th class=\"col_heading level0 col2\" >Amount After Discount (RM)</th>    </tr></thead><tbody>\n",
       "                <tr>\n",
       "                        <th id=\"T_265f9_level0_row0\" class=\"row_heading level0 row0\" >Total Amount (RM)</th>\n",
       "                        <td id=\"T_265f9_row0_col0\" class=\"data row0 col0\" >1.000000</td>\n",
       "                        <td id=\"T_265f9_row0_col1\" class=\"data row0 col1\" >0.028487</td>\n",
       "                        <td id=\"T_265f9_row0_col2\" class=\"data row0 col2\" >0.999935</td>\n",
       "            </tr>\n",
       "            <tr>\n",
       "                        <th id=\"T_265f9_level0_row1\" class=\"row_heading level0 row1\" >Discount Received (RM)</th>\n",
       "                        <td id=\"T_265f9_row1_col0\" class=\"data row1 col0\" >0.028487</td>\n",
       "                        <td id=\"T_265f9_row1_col1\" class=\"data row1 col1\" >1.000000</td>\n",
       "                        <td id=\"T_265f9_row1_col2\" class=\"data row1 col2\" >0.021817</td>\n",
       "            </tr>\n",
       "            <tr>\n",
       "                        <th id=\"T_265f9_level0_row2\" class=\"row_heading level0 row2\" >Amount After Discount (RM)</th>\n",
       "                        <td id=\"T_265f9_row2_col0\" class=\"data row2 col0\" >0.999935</td>\n",
       "                        <td id=\"T_265f9_row2_col1\" class=\"data row2 col1\" >0.021817</td>\n",
       "                        <td id=\"T_265f9_row2_col2\" class=\"data row2 col2\" >1.000000</td>\n",
       "            </tr>\n",
       "    </tbody></table>"
      ],
      "text/plain": [
       "<pandas.io.formats.style.Styler at 0x139750957f0>"
      ]
     },
     "execution_count": 42,
     "metadata": {},
     "output_type": "execute_result"
    }
   ],
   "source": [
    "df.corr(method='spearman').style.background_gradient(cmap='coolwarm')"
   ]
  },
  {
   "cell_type": "code",
   "execution_count": 45,
   "metadata": {},
   "outputs": [
    {
     "data": {
      "text/plain": [
       "Text(0.5, 1.0, 'Discount Received')"
      ]
     },
     "execution_count": 45,
     "metadata": {},
     "output_type": "execute_result"
    },
    {
     "data": {
      "image/png": "[encoded data removed]",
      "text/plain": [
       "<Figure size 720x432 with 2 Axes>"
      ]
     },
     "metadata": {
      "needs_background": "light"
     },
     "output_type": "display_data"
    }
   ],
   "source": [
    "fig, ax = plt.subplots(1,2, sharey=True, figsize=(10, 6))\n",
    "\n",
    "fig.suptitle('Amount After Discount vs Total Amount & Discount Received')\n",
    "ax[0].scatter(x=df[\"Total Amount (RM)\"], y=df[\"Amount After Discount (RM)\"], c=\"red\")\n",
    "ax[0].set_title(\"Total Amount\")\n",
    "ax[1].scatter(x=df[\"Discount Received (RM)\"], y=df[\"Amount After Discount (RM)\"], c=\"blue\")\n",
    "ax[1].set_title(\"Discount Received\")"
   ]
  }
 ],
 "metadata": {
  "kernelspec": {
   "display_name": "base",
   "language": "python",
   "name": "python3"
  },
  "language_info": {
   "codemirror_mode": {
    "name": "ipython",
    "version": 3
   },
   "file_extension": ".py",
   "mimetype": "text/x-python",
   "name": "python",
   "nbconvert_exporter": "python",
   "pygments_lexer": "ipython3",
   "version": "3.8.8"
  },
  "orig_nbformat": 4,
  "vscode": {
   "interpreter": {
    "hash": "9c1d5a056f04d97314a9f946bc8c5185004572d3d68312220c0ba298420421f7"
   }
  }
 },
 "nbformat": 4,
 "nbformat_minor": 2
}
